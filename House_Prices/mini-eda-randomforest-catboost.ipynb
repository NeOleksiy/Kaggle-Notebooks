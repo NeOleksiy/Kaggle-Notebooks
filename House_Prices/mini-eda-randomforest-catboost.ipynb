{
 "cells": [
  {
   "cell_type": "code",
   "execution_count": 1,
   "id": "5d381e95",
   "metadata": {
    "_cell_guid": "b1076dfc-b9ad-4769-8c92-a6c4dae69d19",
    "_uuid": "8f2839f25d086af736a60e9eeb907d3b93b6e0e5",
    "execution": {
     "iopub.execute_input": "2023-10-29T20:10:28.850776Z",
     "iopub.status.busy": "2023-10-29T20:10:28.850311Z",
     "iopub.status.idle": "2023-10-29T20:10:30.449946Z",
     "shell.execute_reply": "2023-10-29T20:10:30.447843Z"
    },
    "papermill": {
     "duration": 1.625343,
     "end_time": "2023-10-29T20:10:30.452959",
     "exception": false,
     "start_time": "2023-10-29T20:10:28.827616",
     "status": "completed"
    },
    "tags": []
   },
   "outputs": [
    {
     "name": "stderr",
     "output_type": "stream",
     "text": [
      "/opt/conda/lib/python3.10/site-packages/scipy/__init__.py:146: UserWarning: A NumPy version >=1.16.5 and <1.23.0 is required for this version of SciPy (detected version 1.23.5\n",
      "  warnings.warn(f\"A NumPy version >={np_minversion} and <{np_maxversion}\"\n"
     ]
    },
    {
     "name": "stdout",
     "output_type": "stream",
     "text": [
      "/kaggle/input/house-prices-advanced-regression-techniques/sample_submission.csv\n",
      "/kaggle/input/house-prices-advanced-regression-techniques/data_description.txt\n",
      "/kaggle/input/house-prices-advanced-regression-techniques/train.csv\n",
      "/kaggle/input/house-prices-advanced-regression-techniques/test.csv\n"
     ]
    }
   ],
   "source": [
    "# This Python 3 environment comes with many helpful analytics libraries installed\n",
    "# It is defined by the kaggle/python Docker image: https://github.com/kaggle/docker-python\n",
    "# For example, here's several helpful packages to load\n",
    "\n",
    "import numpy as np # linear algebra\n",
    "import pandas as pd # data processing, CSV file I/O (e.g. pd.read_csv)\n",
    "import matplotlib.pyplot as plt\n",
    "import seaborn as sns\n",
    "\n",
    "# Input data files are available in the read-only \"../input/\" directory\n",
    "# For example, running this (by clicking run or pressing Shift+Enter) will list all files under the input directory\n",
    "\n",
    "import os\n",
    "for dirname, _, filenames in os.walk('/kaggle/input'):\n",
    "    for filename in filenames:\n",
    "        print(os.path.join(dirname, filename))\n",
    "\n",
    "# You can write up to 20GB to the current directory (/kaggle/working/) that gets preserved as output when you create a version using \"Save & Run All\" \n",
    "# You can also write temporary files to /kaggle/temp/, but they won't be saved outside of the current session"
   ]
  },
  {
   "cell_type": "markdown",
   "id": "e8c20335",
   "metadata": {
    "papermill": {
     "duration": 0.019688,
     "end_time": "2023-10-29T20:10:30.493013",
     "exception": false,
     "start_time": "2023-10-29T20:10:30.473325",
     "status": "completed"
    },
    "tags": []
   },
   "source": [
    "<font size=5>**Load data**</font>"
   ]
  },
  {
   "cell_type": "code",
   "execution_count": 2,
   "id": "b2ff672a",
   "metadata": {
    "execution": {
     "iopub.execute_input": "2023-10-29T20:10:30.536574Z",
     "iopub.status.busy": "2023-10-29T20:10:30.535264Z",
     "iopub.status.idle": "2023-10-29T20:10:30.632031Z",
     "shell.execute_reply": "2023-10-29T20:10:30.630793Z"
    },
    "papermill": {
     "duration": 0.121691,
     "end_time": "2023-10-29T20:10:30.634648",
     "exception": false,
     "start_time": "2023-10-29T20:10:30.512957",
     "status": "completed"
    },
    "tags": []
   },
   "outputs": [
    {
     "data": {
      "text/html": [
       "<div>\n",
       "<style scoped>\n",
       "    .dataframe tbody tr th:only-of-type {\n",
       "        vertical-align: middle;\n",
       "    }\n",
       "\n",
       "    .dataframe tbody tr th {\n",
       "        vertical-align: top;\n",
       "    }\n",
       "\n",
       "    .dataframe thead th {\n",
       "        text-align: right;\n",
       "    }\n",
       "</style>\n",
       "<table border=\"1\" class=\"dataframe\">\n",
       "  <thead>\n",
       "    <tr style=\"text-align: right;\">\n",
       "      <th></th>\n",
       "      <th>Id</th>\n",
       "      <th>MSSubClass</th>\n",
       "      <th>MSZoning</th>\n",
       "      <th>LotFrontage</th>\n",
       "      <th>LotArea</th>\n",
       "      <th>Street</th>\n",
       "      <th>Alley</th>\n",
       "      <th>LotShape</th>\n",
       "      <th>LandContour</th>\n",
       "      <th>Utilities</th>\n",
       "      <th>...</th>\n",
       "      <th>PoolArea</th>\n",
       "      <th>PoolQC</th>\n",
       "      <th>Fence</th>\n",
       "      <th>MiscFeature</th>\n",
       "      <th>MiscVal</th>\n",
       "      <th>MoSold</th>\n",
       "      <th>YrSold</th>\n",
       "      <th>SaleType</th>\n",
       "      <th>SaleCondition</th>\n",
       "      <th>SalePrice</th>\n",
       "    </tr>\n",
       "  </thead>\n",
       "  <tbody>\n",
       "    <tr>\n",
       "      <th>0</th>\n",
       "      <td>1</td>\n",
       "      <td>60</td>\n",
       "      <td>RL</td>\n",
       "      <td>65.0</td>\n",
       "      <td>8450</td>\n",
       "      <td>Pave</td>\n",
       "      <td>NaN</td>\n",
       "      <td>Reg</td>\n",
       "      <td>Lvl</td>\n",
       "      <td>AllPub</td>\n",
       "      <td>...</td>\n",
       "      <td>0</td>\n",
       "      <td>NaN</td>\n",
       "      <td>NaN</td>\n",
       "      <td>NaN</td>\n",
       "      <td>0</td>\n",
       "      <td>2</td>\n",
       "      <td>2008</td>\n",
       "      <td>WD</td>\n",
       "      <td>Normal</td>\n",
       "      <td>208500</td>\n",
       "    </tr>\n",
       "    <tr>\n",
       "      <th>1</th>\n",
       "      <td>2</td>\n",
       "      <td>20</td>\n",
       "      <td>RL</td>\n",
       "      <td>80.0</td>\n",
       "      <td>9600</td>\n",
       "      <td>Pave</td>\n",
       "      <td>NaN</td>\n",
       "      <td>Reg</td>\n",
       "      <td>Lvl</td>\n",
       "      <td>AllPub</td>\n",
       "      <td>...</td>\n",
       "      <td>0</td>\n",
       "      <td>NaN</td>\n",
       "      <td>NaN</td>\n",
       "      <td>NaN</td>\n",
       "      <td>0</td>\n",
       "      <td>5</td>\n",
       "      <td>2007</td>\n",
       "      <td>WD</td>\n",
       "      <td>Normal</td>\n",
       "      <td>181500</td>\n",
       "    </tr>\n",
       "    <tr>\n",
       "      <th>2</th>\n",
       "      <td>3</td>\n",
       "      <td>60</td>\n",
       "      <td>RL</td>\n",
       "      <td>68.0</td>\n",
       "      <td>11250</td>\n",
       "      <td>Pave</td>\n",
       "      <td>NaN</td>\n",
       "      <td>IR1</td>\n",
       "      <td>Lvl</td>\n",
       "      <td>AllPub</td>\n",
       "      <td>...</td>\n",
       "      <td>0</td>\n",
       "      <td>NaN</td>\n",
       "      <td>NaN</td>\n",
       "      <td>NaN</td>\n",
       "      <td>0</td>\n",
       "      <td>9</td>\n",
       "      <td>2008</td>\n",
       "      <td>WD</td>\n",
       "      <td>Normal</td>\n",
       "      <td>223500</td>\n",
       "    </tr>\n",
       "    <tr>\n",
       "      <th>3</th>\n",
       "      <td>4</td>\n",
       "      <td>70</td>\n",
       "      <td>RL</td>\n",
       "      <td>60.0</td>\n",
       "      <td>9550</td>\n",
       "      <td>Pave</td>\n",
       "      <td>NaN</td>\n",
       "      <td>IR1</td>\n",
       "      <td>Lvl</td>\n",
       "      <td>AllPub</td>\n",
       "      <td>...</td>\n",
       "      <td>0</td>\n",
       "      <td>NaN</td>\n",
       "      <td>NaN</td>\n",
       "      <td>NaN</td>\n",
       "      <td>0</td>\n",
       "      <td>2</td>\n",
       "      <td>2006</td>\n",
       "      <td>WD</td>\n",
       "      <td>Abnorml</td>\n",
       "      <td>140000</td>\n",
       "    </tr>\n",
       "    <tr>\n",
       "      <th>4</th>\n",
       "      <td>5</td>\n",
       "      <td>60</td>\n",
       "      <td>RL</td>\n",
       "      <td>84.0</td>\n",
       "      <td>14260</td>\n",
       "      <td>Pave</td>\n",
       "      <td>NaN</td>\n",
       "      <td>IR1</td>\n",
       "      <td>Lvl</td>\n",
       "      <td>AllPub</td>\n",
       "      <td>...</td>\n",
       "      <td>0</td>\n",
       "      <td>NaN</td>\n",
       "      <td>NaN</td>\n",
       "      <td>NaN</td>\n",
       "      <td>0</td>\n",
       "      <td>12</td>\n",
       "      <td>2008</td>\n",
       "      <td>WD</td>\n",
       "      <td>Normal</td>\n",
       "      <td>250000</td>\n",
       "    </tr>\n",
       "  </tbody>\n",
       "</table>\n",
       "<p>5 rows × 81 columns</p>\n",
       "</div>"
      ],
      "text/plain": [
       "   Id  MSSubClass MSZoning  LotFrontage  LotArea Street Alley LotShape  \\\n",
       "0   1          60       RL         65.0     8450   Pave   NaN      Reg   \n",
       "1   2          20       RL         80.0     9600   Pave   NaN      Reg   \n",
       "2   3          60       RL         68.0    11250   Pave   NaN      IR1   \n",
       "3   4          70       RL         60.0     9550   Pave   NaN      IR1   \n",
       "4   5          60       RL         84.0    14260   Pave   NaN      IR1   \n",
       "\n",
       "  LandContour Utilities  ... PoolArea PoolQC Fence MiscFeature MiscVal MoSold  \\\n",
       "0         Lvl    AllPub  ...        0    NaN   NaN         NaN       0      2   \n",
       "1         Lvl    AllPub  ...        0    NaN   NaN         NaN       0      5   \n",
       "2         Lvl    AllPub  ...        0    NaN   NaN         NaN       0      9   \n",
       "3         Lvl    AllPub  ...        0    NaN   NaN         NaN       0      2   \n",
       "4         Lvl    AllPub  ...        0    NaN   NaN         NaN       0     12   \n",
       "\n",
       "  YrSold  SaleType  SaleCondition  SalePrice  \n",
       "0   2008        WD         Normal     208500  \n",
       "1   2007        WD         Normal     181500  \n",
       "2   2008        WD         Normal     223500  \n",
       "3   2006        WD        Abnorml     140000  \n",
       "4   2008        WD         Normal     250000  \n",
       "\n",
       "[5 rows x 81 columns]"
      ]
     },
     "execution_count": 2,
     "metadata": {},
     "output_type": "execute_result"
    }
   ],
   "source": [
    "raw_data = pd.read_csv('/kaggle/input/house-prices-advanced-regression-techniques/train.csv')\n",
    "raw_data.head()"
   ]
  },
  {
   "cell_type": "markdown",
   "id": "959c80c0",
   "metadata": {
    "papermill": {
     "duration": 0.02109,
     "end_time": "2023-10-29T20:10:30.677608",
     "exception": false,
     "start_time": "2023-10-29T20:10:30.656518",
     "status": "completed"
    },
    "tags": []
   },
   "source": [
    "<font size=5>**Analysis columns**</font>"
   ]
  },
  {
   "cell_type": "code",
   "execution_count": 3,
   "id": "cd7cb1ae",
   "metadata": {
    "execution": {
     "iopub.execute_input": "2023-10-29T20:10:30.722353Z",
     "iopub.status.busy": "2023-10-29T20:10:30.721595Z",
     "iopub.status.idle": "2023-10-29T20:10:30.731357Z",
     "shell.execute_reply": "2023-10-29T20:10:30.730037Z"
    },
    "papermill": {
     "duration": 0.035267,
     "end_time": "2023-10-29T20:10:30.733919",
     "exception": false,
     "start_time": "2023-10-29T20:10:30.698652",
     "status": "completed"
    },
    "tags": []
   },
   "outputs": [
    {
     "data": {
      "text/plain": [
       "Id                 int64\n",
       "MSSubClass         int64\n",
       "MSZoning          object\n",
       "LotFrontage      float64\n",
       "LotArea            int64\n",
       "                  ...   \n",
       "MoSold             int64\n",
       "YrSold             int64\n",
       "SaleType          object\n",
       "SaleCondition     object\n",
       "SalePrice          int64\n",
       "Length: 81, dtype: object"
      ]
     },
     "execution_count": 3,
     "metadata": {},
     "output_type": "execute_result"
    }
   ],
   "source": [
    "raw_data.dtypes"
   ]
  },
  {
   "cell_type": "code",
   "execution_count": 4,
   "id": "26669219",
   "metadata": {
    "execution": {
     "iopub.execute_input": "2023-10-29T20:10:30.779287Z",
     "iopub.status.busy": "2023-10-29T20:10:30.778771Z",
     "iopub.status.idle": "2023-10-29T20:10:30.811970Z",
     "shell.execute_reply": "2023-10-29T20:10:30.810606Z"
    },
    "papermill": {
     "duration": 0.05969,
     "end_time": "2023-10-29T20:10:30.814943",
     "exception": false,
     "start_time": "2023-10-29T20:10:30.755253",
     "status": "completed"
    },
    "tags": []
   },
   "outputs": [
    {
     "data": {
      "text/html": [
       "<div>\n",
       "<style scoped>\n",
       "    .dataframe tbody tr th:only-of-type {\n",
       "        vertical-align: middle;\n",
       "    }\n",
       "\n",
       "    .dataframe tbody tr th {\n",
       "        vertical-align: top;\n",
       "    }\n",
       "\n",
       "    .dataframe thead th {\n",
       "        text-align: right;\n",
       "    }\n",
       "</style>\n",
       "<table border=\"1\" class=\"dataframe\">\n",
       "  <thead>\n",
       "    <tr style=\"text-align: right;\">\n",
       "      <th></th>\n",
       "      <th>MSZoning</th>\n",
       "      <th>Street</th>\n",
       "      <th>Alley</th>\n",
       "      <th>LotShape</th>\n",
       "      <th>LandContour</th>\n",
       "      <th>Utilities</th>\n",
       "      <th>LotConfig</th>\n",
       "      <th>LandSlope</th>\n",
       "      <th>Neighborhood</th>\n",
       "      <th>Condition1</th>\n",
       "      <th>...</th>\n",
       "      <th>GarageType</th>\n",
       "      <th>GarageFinish</th>\n",
       "      <th>GarageQual</th>\n",
       "      <th>GarageCond</th>\n",
       "      <th>PavedDrive</th>\n",
       "      <th>PoolQC</th>\n",
       "      <th>Fence</th>\n",
       "      <th>MiscFeature</th>\n",
       "      <th>SaleType</th>\n",
       "      <th>SaleCondition</th>\n",
       "    </tr>\n",
       "  </thead>\n",
       "  <tbody>\n",
       "    <tr>\n",
       "      <th>0</th>\n",
       "      <td>RL</td>\n",
       "      <td>Pave</td>\n",
       "      <td>NaN</td>\n",
       "      <td>Reg</td>\n",
       "      <td>Lvl</td>\n",
       "      <td>AllPub</td>\n",
       "      <td>Inside</td>\n",
       "      <td>Gtl</td>\n",
       "      <td>CollgCr</td>\n",
       "      <td>Norm</td>\n",
       "      <td>...</td>\n",
       "      <td>Attchd</td>\n",
       "      <td>RFn</td>\n",
       "      <td>TA</td>\n",
       "      <td>TA</td>\n",
       "      <td>Y</td>\n",
       "      <td>NaN</td>\n",
       "      <td>NaN</td>\n",
       "      <td>NaN</td>\n",
       "      <td>WD</td>\n",
       "      <td>Normal</td>\n",
       "    </tr>\n",
       "    <tr>\n",
       "      <th>1</th>\n",
       "      <td>RL</td>\n",
       "      <td>Pave</td>\n",
       "      <td>NaN</td>\n",
       "      <td>Reg</td>\n",
       "      <td>Lvl</td>\n",
       "      <td>AllPub</td>\n",
       "      <td>FR2</td>\n",
       "      <td>Gtl</td>\n",
       "      <td>Veenker</td>\n",
       "      <td>Feedr</td>\n",
       "      <td>...</td>\n",
       "      <td>Attchd</td>\n",
       "      <td>RFn</td>\n",
       "      <td>TA</td>\n",
       "      <td>TA</td>\n",
       "      <td>Y</td>\n",
       "      <td>NaN</td>\n",
       "      <td>NaN</td>\n",
       "      <td>NaN</td>\n",
       "      <td>WD</td>\n",
       "      <td>Normal</td>\n",
       "    </tr>\n",
       "    <tr>\n",
       "      <th>2</th>\n",
       "      <td>RL</td>\n",
       "      <td>Pave</td>\n",
       "      <td>NaN</td>\n",
       "      <td>IR1</td>\n",
       "      <td>Lvl</td>\n",
       "      <td>AllPub</td>\n",
       "      <td>Inside</td>\n",
       "      <td>Gtl</td>\n",
       "      <td>CollgCr</td>\n",
       "      <td>Norm</td>\n",
       "      <td>...</td>\n",
       "      <td>Attchd</td>\n",
       "      <td>RFn</td>\n",
       "      <td>TA</td>\n",
       "      <td>TA</td>\n",
       "      <td>Y</td>\n",
       "      <td>NaN</td>\n",
       "      <td>NaN</td>\n",
       "      <td>NaN</td>\n",
       "      <td>WD</td>\n",
       "      <td>Normal</td>\n",
       "    </tr>\n",
       "    <tr>\n",
       "      <th>3</th>\n",
       "      <td>RL</td>\n",
       "      <td>Pave</td>\n",
       "      <td>NaN</td>\n",
       "      <td>IR1</td>\n",
       "      <td>Lvl</td>\n",
       "      <td>AllPub</td>\n",
       "      <td>Corner</td>\n",
       "      <td>Gtl</td>\n",
       "      <td>Crawfor</td>\n",
       "      <td>Norm</td>\n",
       "      <td>...</td>\n",
       "      <td>Detchd</td>\n",
       "      <td>Unf</td>\n",
       "      <td>TA</td>\n",
       "      <td>TA</td>\n",
       "      <td>Y</td>\n",
       "      <td>NaN</td>\n",
       "      <td>NaN</td>\n",
       "      <td>NaN</td>\n",
       "      <td>WD</td>\n",
       "      <td>Abnorml</td>\n",
       "    </tr>\n",
       "    <tr>\n",
       "      <th>4</th>\n",
       "      <td>RL</td>\n",
       "      <td>Pave</td>\n",
       "      <td>NaN</td>\n",
       "      <td>IR1</td>\n",
       "      <td>Lvl</td>\n",
       "      <td>AllPub</td>\n",
       "      <td>FR2</td>\n",
       "      <td>Gtl</td>\n",
       "      <td>NoRidge</td>\n",
       "      <td>Norm</td>\n",
       "      <td>...</td>\n",
       "      <td>Attchd</td>\n",
       "      <td>RFn</td>\n",
       "      <td>TA</td>\n",
       "      <td>TA</td>\n",
       "      <td>Y</td>\n",
       "      <td>NaN</td>\n",
       "      <td>NaN</td>\n",
       "      <td>NaN</td>\n",
       "      <td>WD</td>\n",
       "      <td>Normal</td>\n",
       "    </tr>\n",
       "    <tr>\n",
       "      <th>...</th>\n",
       "      <td>...</td>\n",
       "      <td>...</td>\n",
       "      <td>...</td>\n",
       "      <td>...</td>\n",
       "      <td>...</td>\n",
       "      <td>...</td>\n",
       "      <td>...</td>\n",
       "      <td>...</td>\n",
       "      <td>...</td>\n",
       "      <td>...</td>\n",
       "      <td>...</td>\n",
       "      <td>...</td>\n",
       "      <td>...</td>\n",
       "      <td>...</td>\n",
       "      <td>...</td>\n",
       "      <td>...</td>\n",
       "      <td>...</td>\n",
       "      <td>...</td>\n",
       "      <td>...</td>\n",
       "      <td>...</td>\n",
       "      <td>...</td>\n",
       "    </tr>\n",
       "    <tr>\n",
       "      <th>1455</th>\n",
       "      <td>RL</td>\n",
       "      <td>Pave</td>\n",
       "      <td>NaN</td>\n",
       "      <td>Reg</td>\n",
       "      <td>Lvl</td>\n",
       "      <td>AllPub</td>\n",
       "      <td>Inside</td>\n",
       "      <td>Gtl</td>\n",
       "      <td>Gilbert</td>\n",
       "      <td>Norm</td>\n",
       "      <td>...</td>\n",
       "      <td>Attchd</td>\n",
       "      <td>RFn</td>\n",
       "      <td>TA</td>\n",
       "      <td>TA</td>\n",
       "      <td>Y</td>\n",
       "      <td>NaN</td>\n",
       "      <td>NaN</td>\n",
       "      <td>NaN</td>\n",
       "      <td>WD</td>\n",
       "      <td>Normal</td>\n",
       "    </tr>\n",
       "    <tr>\n",
       "      <th>1456</th>\n",
       "      <td>RL</td>\n",
       "      <td>Pave</td>\n",
       "      <td>NaN</td>\n",
       "      <td>Reg</td>\n",
       "      <td>Lvl</td>\n",
       "      <td>AllPub</td>\n",
       "      <td>Inside</td>\n",
       "      <td>Gtl</td>\n",
       "      <td>NWAmes</td>\n",
       "      <td>Norm</td>\n",
       "      <td>...</td>\n",
       "      <td>Attchd</td>\n",
       "      <td>Unf</td>\n",
       "      <td>TA</td>\n",
       "      <td>TA</td>\n",
       "      <td>Y</td>\n",
       "      <td>NaN</td>\n",
       "      <td>MnPrv</td>\n",
       "      <td>NaN</td>\n",
       "      <td>WD</td>\n",
       "      <td>Normal</td>\n",
       "    </tr>\n",
       "    <tr>\n",
       "      <th>1457</th>\n",
       "      <td>RL</td>\n",
       "      <td>Pave</td>\n",
       "      <td>NaN</td>\n",
       "      <td>Reg</td>\n",
       "      <td>Lvl</td>\n",
       "      <td>AllPub</td>\n",
       "      <td>Inside</td>\n",
       "      <td>Gtl</td>\n",
       "      <td>Crawfor</td>\n",
       "      <td>Norm</td>\n",
       "      <td>...</td>\n",
       "      <td>Attchd</td>\n",
       "      <td>RFn</td>\n",
       "      <td>TA</td>\n",
       "      <td>TA</td>\n",
       "      <td>Y</td>\n",
       "      <td>NaN</td>\n",
       "      <td>GdPrv</td>\n",
       "      <td>Shed</td>\n",
       "      <td>WD</td>\n",
       "      <td>Normal</td>\n",
       "    </tr>\n",
       "    <tr>\n",
       "      <th>1458</th>\n",
       "      <td>RL</td>\n",
       "      <td>Pave</td>\n",
       "      <td>NaN</td>\n",
       "      <td>Reg</td>\n",
       "      <td>Lvl</td>\n",
       "      <td>AllPub</td>\n",
       "      <td>Inside</td>\n",
       "      <td>Gtl</td>\n",
       "      <td>NAmes</td>\n",
       "      <td>Norm</td>\n",
       "      <td>...</td>\n",
       "      <td>Attchd</td>\n",
       "      <td>Unf</td>\n",
       "      <td>TA</td>\n",
       "      <td>TA</td>\n",
       "      <td>Y</td>\n",
       "      <td>NaN</td>\n",
       "      <td>NaN</td>\n",
       "      <td>NaN</td>\n",
       "      <td>WD</td>\n",
       "      <td>Normal</td>\n",
       "    </tr>\n",
       "    <tr>\n",
       "      <th>1459</th>\n",
       "      <td>RL</td>\n",
       "      <td>Pave</td>\n",
       "      <td>NaN</td>\n",
       "      <td>Reg</td>\n",
       "      <td>Lvl</td>\n",
       "      <td>AllPub</td>\n",
       "      <td>Inside</td>\n",
       "      <td>Gtl</td>\n",
       "      <td>Edwards</td>\n",
       "      <td>Norm</td>\n",
       "      <td>...</td>\n",
       "      <td>Attchd</td>\n",
       "      <td>Fin</td>\n",
       "      <td>TA</td>\n",
       "      <td>TA</td>\n",
       "      <td>Y</td>\n",
       "      <td>NaN</td>\n",
       "      <td>NaN</td>\n",
       "      <td>NaN</td>\n",
       "      <td>WD</td>\n",
       "      <td>Normal</td>\n",
       "    </tr>\n",
       "  </tbody>\n",
       "</table>\n",
       "<p>1460 rows × 43 columns</p>\n",
       "</div>"
      ],
      "text/plain": [
       "     MSZoning Street Alley LotShape LandContour Utilities LotConfig LandSlope  \\\n",
       "0          RL   Pave   NaN      Reg         Lvl    AllPub    Inside       Gtl   \n",
       "1          RL   Pave   NaN      Reg         Lvl    AllPub       FR2       Gtl   \n",
       "2          RL   Pave   NaN      IR1         Lvl    AllPub    Inside       Gtl   \n",
       "3          RL   Pave   NaN      IR1         Lvl    AllPub    Corner       Gtl   \n",
       "4          RL   Pave   NaN      IR1         Lvl    AllPub       FR2       Gtl   \n",
       "...       ...    ...   ...      ...         ...       ...       ...       ...   \n",
       "1455       RL   Pave   NaN      Reg         Lvl    AllPub    Inside       Gtl   \n",
       "1456       RL   Pave   NaN      Reg         Lvl    AllPub    Inside       Gtl   \n",
       "1457       RL   Pave   NaN      Reg         Lvl    AllPub    Inside       Gtl   \n",
       "1458       RL   Pave   NaN      Reg         Lvl    AllPub    Inside       Gtl   \n",
       "1459       RL   Pave   NaN      Reg         Lvl    AllPub    Inside       Gtl   \n",
       "\n",
       "     Neighborhood Condition1  ... GarageType GarageFinish GarageQual  \\\n",
       "0         CollgCr       Norm  ...     Attchd          RFn         TA   \n",
       "1         Veenker      Feedr  ...     Attchd          RFn         TA   \n",
       "2         CollgCr       Norm  ...     Attchd          RFn         TA   \n",
       "3         Crawfor       Norm  ...     Detchd          Unf         TA   \n",
       "4         NoRidge       Norm  ...     Attchd          RFn         TA   \n",
       "...           ...        ...  ...        ...          ...        ...   \n",
       "1455      Gilbert       Norm  ...     Attchd          RFn         TA   \n",
       "1456       NWAmes       Norm  ...     Attchd          Unf         TA   \n",
       "1457      Crawfor       Norm  ...     Attchd          RFn         TA   \n",
       "1458        NAmes       Norm  ...     Attchd          Unf         TA   \n",
       "1459      Edwards       Norm  ...     Attchd          Fin         TA   \n",
       "\n",
       "     GarageCond PavedDrive PoolQC  Fence MiscFeature SaleType SaleCondition  \n",
       "0            TA          Y    NaN    NaN         NaN       WD        Normal  \n",
       "1            TA          Y    NaN    NaN         NaN       WD        Normal  \n",
       "2            TA          Y    NaN    NaN         NaN       WD        Normal  \n",
       "3            TA          Y    NaN    NaN         NaN       WD       Abnorml  \n",
       "4            TA          Y    NaN    NaN         NaN       WD        Normal  \n",
       "...         ...        ...    ...    ...         ...      ...           ...  \n",
       "1455         TA          Y    NaN    NaN         NaN       WD        Normal  \n",
       "1456         TA          Y    NaN  MnPrv         NaN       WD        Normal  \n",
       "1457         TA          Y    NaN  GdPrv        Shed       WD        Normal  \n",
       "1458         TA          Y    NaN    NaN         NaN       WD        Normal  \n",
       "1459         TA          Y    NaN    NaN         NaN       WD        Normal  \n",
       "\n",
       "[1460 rows x 43 columns]"
      ]
     },
     "execution_count": 4,
     "metadata": {},
     "output_type": "execute_result"
    }
   ],
   "source": [
    "raw_data.select_dtypes(include='object')"
   ]
  },
  {
   "cell_type": "code",
   "execution_count": 5,
   "id": "fb893423",
   "metadata": {
    "execution": {
     "iopub.execute_input": "2023-10-29T20:10:30.860416Z",
     "iopub.status.busy": "2023-10-29T20:10:30.859881Z",
     "iopub.status.idle": "2023-10-29T20:10:30.911975Z",
     "shell.execute_reply": "2023-10-29T20:10:30.910671Z"
    },
    "papermill": {
     "duration": 0.078657,
     "end_time": "2023-10-29T20:10:30.915295",
     "exception": false,
     "start_time": "2023-10-29T20:10:30.836638",
     "status": "completed"
    },
    "tags": []
   },
   "outputs": [
    {
     "name": "stdout",
     "output_type": "stream",
     "text": [
      "<class 'pandas.core.frame.DataFrame'>\n",
      "RangeIndex: 1460 entries, 0 to 1459\n",
      "Data columns (total 81 columns):\n",
      " #   Column         Non-Null Count  Dtype  \n",
      "---  ------         --------------  -----  \n",
      " 0   Id             1460 non-null   int64  \n",
      " 1   MSSubClass     1460 non-null   int64  \n",
      " 2   MSZoning       1460 non-null   object \n",
      " 3   LotFrontage    1201 non-null   float64\n",
      " 4   LotArea        1460 non-null   int64  \n",
      " 5   Street         1460 non-null   object \n",
      " 6   Alley          91 non-null     object \n",
      " 7   LotShape       1460 non-null   object \n",
      " 8   LandContour    1460 non-null   object \n",
      " 9   Utilities      1460 non-null   object \n",
      " 10  LotConfig      1460 non-null   object \n",
      " 11  LandSlope      1460 non-null   object \n",
      " 12  Neighborhood   1460 non-null   object \n",
      " 13  Condition1     1460 non-null   object \n",
      " 14  Condition2     1460 non-null   object \n",
      " 15  BldgType       1460 non-null   object \n",
      " 16  HouseStyle     1460 non-null   object \n",
      " 17  OverallQual    1460 non-null   int64  \n",
      " 18  OverallCond    1460 non-null   int64  \n",
      " 19  YearBuilt      1460 non-null   int64  \n",
      " 20  YearRemodAdd   1460 non-null   int64  \n",
      " 21  RoofStyle      1460 non-null   object \n",
      " 22  RoofMatl       1460 non-null   object \n",
      " 23  Exterior1st    1460 non-null   object \n",
      " 24  Exterior2nd    1460 non-null   object \n",
      " 25  MasVnrType     1452 non-null   object \n",
      " 26  MasVnrArea     1452 non-null   float64\n",
      " 27  ExterQual      1460 non-null   object \n",
      " 28  ExterCond      1460 non-null   object \n",
      " 29  Foundation     1460 non-null   object \n",
      " 30  BsmtQual       1423 non-null   object \n",
      " 31  BsmtCond       1423 non-null   object \n",
      " 32  BsmtExposure   1422 non-null   object \n",
      " 33  BsmtFinType1   1423 non-null   object \n",
      " 34  BsmtFinSF1     1460 non-null   int64  \n",
      " 35  BsmtFinType2   1422 non-null   object \n",
      " 36  BsmtFinSF2     1460 non-null   int64  \n",
      " 37  BsmtUnfSF      1460 non-null   int64  \n",
      " 38  TotalBsmtSF    1460 non-null   int64  \n",
      " 39  Heating        1460 non-null   object \n",
      " 40  HeatingQC      1460 non-null   object \n",
      " 41  CentralAir     1460 non-null   object \n",
      " 42  Electrical     1459 non-null   object \n",
      " 43  1stFlrSF       1460 non-null   int64  \n",
      " 44  2ndFlrSF       1460 non-null   int64  \n",
      " 45  LowQualFinSF   1460 non-null   int64  \n",
      " 46  GrLivArea      1460 non-null   int64  \n",
      " 47  BsmtFullBath   1460 non-null   int64  \n",
      " 48  BsmtHalfBath   1460 non-null   int64  \n",
      " 49  FullBath       1460 non-null   int64  \n",
      " 50  HalfBath       1460 non-null   int64  \n",
      " 51  BedroomAbvGr   1460 non-null   int64  \n",
      " 52  KitchenAbvGr   1460 non-null   int64  \n",
      " 53  KitchenQual    1460 non-null   object \n",
      " 54  TotRmsAbvGrd   1460 non-null   int64  \n",
      " 55  Functional     1460 non-null   object \n",
      " 56  Fireplaces     1460 non-null   int64  \n",
      " 57  FireplaceQu    770 non-null    object \n",
      " 58  GarageType     1379 non-null   object \n",
      " 59  GarageYrBlt    1379 non-null   float64\n",
      " 60  GarageFinish   1379 non-null   object \n",
      " 61  GarageCars     1460 non-null   int64  \n",
      " 62  GarageArea     1460 non-null   int64  \n",
      " 63  GarageQual     1379 non-null   object \n",
      " 64  GarageCond     1379 non-null   object \n",
      " 65  PavedDrive     1460 non-null   object \n",
      " 66  WoodDeckSF     1460 non-null   int64  \n",
      " 67  OpenPorchSF    1460 non-null   int64  \n",
      " 68  EnclosedPorch  1460 non-null   int64  \n",
      " 69  3SsnPorch      1460 non-null   int64  \n",
      " 70  ScreenPorch    1460 non-null   int64  \n",
      " 71  PoolArea       1460 non-null   int64  \n",
      " 72  PoolQC         7 non-null      object \n",
      " 73  Fence          281 non-null    object \n",
      " 74  MiscFeature    54 non-null     object \n",
      " 75  MiscVal        1460 non-null   int64  \n",
      " 76  MoSold         1460 non-null   int64  \n",
      " 77  YrSold         1460 non-null   int64  \n",
      " 78  SaleType       1460 non-null   object \n",
      " 79  SaleCondition  1460 non-null   object \n",
      " 80  SalePrice      1460 non-null   int64  \n",
      "dtypes: float64(3), int64(35), object(43)\n",
      "memory usage: 924.0+ KB\n"
     ]
    }
   ],
   "source": [
    "raw_data.info()"
   ]
  },
  {
   "cell_type": "markdown",
   "id": "911a9a5c",
   "metadata": {
    "papermill": {
     "duration": 0.024549,
     "end_time": "2023-10-29T20:10:30.962286",
     "exception": false,
     "start_time": "2023-10-29T20:10:30.937737",
     "status": "completed"
    },
    "tags": []
   },
   "source": [
    "<font size=5>**Unknown handler**</font>"
   ]
  },
  {
   "cell_type": "code",
   "execution_count": 6,
   "id": "be53dcae",
   "metadata": {
    "execution": {
     "iopub.execute_input": "2023-10-29T20:10:31.017789Z",
     "iopub.status.busy": "2023-10-29T20:10:31.017379Z",
     "iopub.status.idle": "2023-10-29T20:10:31.026551Z",
     "shell.execute_reply": "2023-10-29T20:10:31.024966Z"
    },
    "papermill": {
     "duration": 0.038249,
     "end_time": "2023-10-29T20:10:31.029471",
     "exception": false,
     "start_time": "2023-10-29T20:10:30.991222",
     "status": "completed"
    },
    "tags": []
   },
   "outputs": [],
   "source": [
    "raw_data.drop(columns=['MoSold', 'YrSold', 'SaleType', 'SaleCondition'], inplace = True)"
   ]
  },
  {
   "cell_type": "code",
   "execution_count": 7,
   "id": "83d20e69",
   "metadata": {
    "execution": {
     "iopub.execute_input": "2023-10-29T20:10:31.081876Z",
     "iopub.status.busy": "2023-10-29T20:10:31.081338Z",
     "iopub.status.idle": "2023-10-29T20:10:31.091911Z",
     "shell.execute_reply": "2023-10-29T20:10:31.089768Z"
    },
    "papermill": {
     "duration": 0.042411,
     "end_time": "2023-10-29T20:10:31.095143",
     "exception": false,
     "start_time": "2023-10-29T20:10:31.052732",
     "status": "completed"
    },
    "tags": []
   },
   "outputs": [],
   "source": [
    "raw_data.drop(columns=['Id',], inplace = True)"
   ]
  },
  {
   "cell_type": "code",
   "execution_count": 8,
   "id": "b7137097",
   "metadata": {
    "execution": {
     "iopub.execute_input": "2023-10-29T20:10:31.154216Z",
     "iopub.status.busy": "2023-10-29T20:10:31.153728Z",
     "iopub.status.idle": "2023-10-29T20:10:31.749991Z",
     "shell.execute_reply": "2023-10-29T20:10:31.748981Z"
    },
    "papermill": {
     "duration": 0.631204,
     "end_time": "2023-10-29T20:10:31.753501",
     "exception": false,
     "start_time": "2023-10-29T20:10:31.122297",
     "status": "completed"
    },
    "tags": []
   },
   "outputs": [
    {
     "data": {
      "image/png": "[encoded data removed]",
      "text/plain": [
       "<Figure size 640x480 with 1 Axes>"
      ]
     },
     "metadata": {},
     "output_type": "display_data"
    }
   ],
   "source": [
    "sns.countplot(x = 'LowQualFinSF', data = raw_data);"
   ]
  },
  {
   "cell_type": "code",
   "execution_count": 9,
   "id": "5a8de1e2",
   "metadata": {
    "execution": {
     "iopub.execute_input": "2023-10-29T20:10:31.806088Z",
     "iopub.status.busy": "2023-10-29T20:10:31.805077Z",
     "iopub.status.idle": "2023-10-29T20:10:31.812042Z",
     "shell.execute_reply": "2023-10-29T20:10:31.811215Z"
    },
    "papermill": {
     "duration": 0.033942,
     "end_time": "2023-10-29T20:10:31.814482",
     "exception": false,
     "start_time": "2023-10-29T20:10:31.780540",
     "status": "completed"
    },
    "tags": []
   },
   "outputs": [],
   "source": [
    "raw_data['LotFrontage'] = raw_data['LotFrontage'].fillna(np.mean(raw_data['LotFrontage']))"
   ]
  },
  {
   "cell_type": "code",
   "execution_count": 10,
   "id": "f9aa47b8",
   "metadata": {
    "execution": {
     "iopub.execute_input": "2023-10-29T20:10:31.862351Z",
     "iopub.status.busy": "2023-10-29T20:10:31.861549Z",
     "iopub.status.idle": "2023-10-29T20:10:31.869732Z",
     "shell.execute_reply": "2023-10-29T20:10:31.868664Z"
    },
    "papermill": {
     "duration": 0.034565,
     "end_time": "2023-10-29T20:10:31.872358",
     "exception": false,
     "start_time": "2023-10-29T20:10:31.837793",
     "status": "completed"
    },
    "tags": []
   },
   "outputs": [],
   "source": [
    "raw_data['MasVnrType'] = raw_data['MasVnrType'].fillna('None')\n",
    "raw_data['MasVnrArea'] = raw_data['MasVnrType'].fillna(0)"
   ]
  },
  {
   "cell_type": "code",
   "execution_count": 11,
   "id": "be28cd62",
   "metadata": {
    "execution": {
     "iopub.execute_input": "2023-10-29T20:10:31.920710Z",
     "iopub.status.busy": "2023-10-29T20:10:31.919718Z",
     "iopub.status.idle": "2023-10-29T20:10:31.936623Z",
     "shell.execute_reply": "2023-10-29T20:10:31.935638Z"
    },
    "papermill": {
     "duration": 0.044941,
     "end_time": "2023-10-29T20:10:31.939568",
     "exception": false,
     "start_time": "2023-10-29T20:10:31.894627",
     "status": "completed"
    },
    "tags": []
   },
   "outputs": [],
   "source": [
    "raw_data[['BsmtQual','BsmtCond', 'BsmtExposure', 'BsmtFinType1', 'BsmtFinType2']] = raw_data[['BsmtQual','BsmtCond', 'BsmtExposure', 'BsmtFinType1', 'BsmtFinType2']].fillna('NoBsmt')"
   ]
  },
  {
   "cell_type": "code",
   "execution_count": 12,
   "id": "393856b0",
   "metadata": {
    "execution": {
     "iopub.execute_input": "2023-10-29T20:10:31.987686Z",
     "iopub.status.busy": "2023-10-29T20:10:31.986715Z",
     "iopub.status.idle": "2023-10-29T20:10:31.994500Z",
     "shell.execute_reply": "2023-10-29T20:10:31.993481Z"
    },
    "papermill": {
     "duration": 0.035066,
     "end_time": "2023-10-29T20:10:31.997168",
     "exception": false,
     "start_time": "2023-10-29T20:10:31.962102",
     "status": "completed"
    },
    "tags": []
   },
   "outputs": [],
   "source": [
    "raw_data['FireplaceQu'] = raw_data['FireplaceQu'].fillna('NoFireplace')"
   ]
  },
  {
   "cell_type": "code",
   "execution_count": 13,
   "id": "12c78dfc",
   "metadata": {
    "execution": {
     "iopub.execute_input": "2023-10-29T20:10:32.047094Z",
     "iopub.status.busy": "2023-10-29T20:10:32.046324Z",
     "iopub.status.idle": "2023-10-29T20:10:32.053784Z",
     "shell.execute_reply": "2023-10-29T20:10:32.052885Z"
    },
    "papermill": {
     "duration": 0.036349,
     "end_time": "2023-10-29T20:10:32.057208",
     "exception": false,
     "start_time": "2023-10-29T20:10:32.020859",
     "status": "completed"
    },
    "tags": []
   },
   "outputs": [],
   "source": [
    "raw_data['Electrical'] = raw_data['Electrical'].fillna('SBrkr')"
   ]
  },
  {
   "cell_type": "code",
   "execution_count": 14,
   "id": "113193fd",
   "metadata": {
    "execution": {
     "iopub.execute_input": "2023-10-29T20:10:32.112428Z",
     "iopub.status.busy": "2023-10-29T20:10:32.111493Z",
     "iopub.status.idle": "2023-10-29T20:10:32.126788Z",
     "shell.execute_reply": "2023-10-29T20:10:32.125684Z"
    },
    "papermill": {
     "duration": 0.043741,
     "end_time": "2023-10-29T20:10:32.129626",
     "exception": false,
     "start_time": "2023-10-29T20:10:32.085885",
     "status": "completed"
    },
    "tags": []
   },
   "outputs": [],
   "source": [
    "raw_data[['GarageType', 'GarageFinish','GarageQual', 'GarageCond']] = raw_data[['GarageType', 'GarageFinish','GarageQual', 'GarageCond']].fillna('NoGarage')"
   ]
  },
  {
   "cell_type": "code",
   "execution_count": 15,
   "id": "4c147e8e",
   "metadata": {
    "execution": {
     "iopub.execute_input": "2023-10-29T20:10:32.178954Z",
     "iopub.status.busy": "2023-10-29T20:10:32.178106Z",
     "iopub.status.idle": "2023-10-29T20:10:32.184936Z",
     "shell.execute_reply": "2023-10-29T20:10:32.184013Z"
    },
    "papermill": {
     "duration": 0.034415,
     "end_time": "2023-10-29T20:10:32.187504",
     "exception": false,
     "start_time": "2023-10-29T20:10:32.153089",
     "status": "completed"
    },
    "tags": []
   },
   "outputs": [],
   "source": [
    "raw_data['GarageYrBlt'] = raw_data['GarageYrBlt'].fillna(0)"
   ]
  },
  {
   "cell_type": "code",
   "execution_count": 16,
   "id": "cfce1929",
   "metadata": {
    "execution": {
     "iopub.execute_input": "2023-10-29T20:10:32.240136Z",
     "iopub.status.busy": "2023-10-29T20:10:32.239611Z",
     "iopub.status.idle": "2023-10-29T20:10:32.255268Z",
     "shell.execute_reply": "2023-10-29T20:10:32.254244Z"
    },
    "papermill": {
     "duration": 0.044979,
     "end_time": "2023-10-29T20:10:32.258084",
     "exception": false,
     "start_time": "2023-10-29T20:10:32.213105",
     "status": "completed"
    },
    "tags": []
   },
   "outputs": [],
   "source": [
    "raw_data[['Alley', 'PoolQC', 'Fence', 'MiscFeature' ]] = raw_data[['Alley', 'PoolQC', 'Fence', 'MiscFeature' ]].fillna('None')"
   ]
  },
  {
   "cell_type": "markdown",
   "id": "281ebf9b",
   "metadata": {
    "papermill": {
     "duration": 0.023762,
     "end_time": "2023-10-29T20:10:32.304524",
     "exception": false,
     "start_time": "2023-10-29T20:10:32.280762",
     "status": "completed"
    },
    "tags": []
   },
   "source": [
    "<font size=5>**Data prepocessing**</font>"
   ]
  },
  {
   "cell_type": "code",
   "execution_count": 17,
   "id": "56397264",
   "metadata": {
    "execution": {
     "iopub.execute_input": "2023-10-29T20:10:32.351998Z",
     "iopub.status.busy": "2023-10-29T20:10:32.350801Z",
     "iopub.status.idle": "2023-10-29T20:10:32.395650Z",
     "shell.execute_reply": "2023-10-29T20:10:32.393676Z"
    },
    "papermill": {
     "duration": 0.071714,
     "end_time": "2023-10-29T20:10:32.398583",
     "exception": false,
     "start_time": "2023-10-29T20:10:32.326869",
     "status": "completed"
    },
    "tags": []
   },
   "outputs": [
    {
     "name": "stdout",
     "output_type": "stream",
     "text": [
      "<class 'pandas.core.frame.DataFrame'>\n",
      "RangeIndex: 1460 entries, 0 to 1459\n",
      "Data columns (total 42 columns):\n",
      " #   Column        Non-Null Count  Dtype \n",
      "---  ------        --------------  ----- \n",
      " 0   MSZoning      1460 non-null   object\n",
      " 1   Street        1460 non-null   object\n",
      " 2   Alley         1460 non-null   object\n",
      " 3   LotShape      1460 non-null   object\n",
      " 4   LandContour   1460 non-null   object\n",
      " 5   Utilities     1460 non-null   object\n",
      " 6   LotConfig     1460 non-null   object\n",
      " 7   LandSlope     1460 non-null   object\n",
      " 8   Neighborhood  1460 non-null   object\n",
      " 9   Condition1    1460 non-null   object\n",
      " 10  Condition2    1460 non-null   object\n",
      " 11  BldgType      1460 non-null   object\n",
      " 12  HouseStyle    1460 non-null   object\n",
      " 13  RoofStyle     1460 non-null   object\n",
      " 14  RoofMatl      1460 non-null   object\n",
      " 15  Exterior1st   1460 non-null   object\n",
      " 16  Exterior2nd   1460 non-null   object\n",
      " 17  MasVnrType    1460 non-null   object\n",
      " 18  MasVnrArea    1460 non-null   object\n",
      " 19  ExterQual     1460 non-null   object\n",
      " 20  ExterCond     1460 non-null   object\n",
      " 21  Foundation    1460 non-null   object\n",
      " 22  BsmtQual      1460 non-null   object\n",
      " 23  BsmtCond      1460 non-null   object\n",
      " 24  BsmtExposure  1460 non-null   object\n",
      " 25  BsmtFinType1  1460 non-null   object\n",
      " 26  BsmtFinType2  1460 non-null   object\n",
      " 27  Heating       1460 non-null   object\n",
      " 28  HeatingQC     1460 non-null   object\n",
      " 29  CentralAir    1460 non-null   object\n",
      " 30  Electrical    1460 non-null   object\n",
      " 31  KitchenQual   1460 non-null   object\n",
      " 32  Functional    1460 non-null   object\n",
      " 33  FireplaceQu   1460 non-null   object\n",
      " 34  GarageType    1460 non-null   object\n",
      " 35  GarageFinish  1460 non-null   object\n",
      " 36  GarageQual    1460 non-null   object\n",
      " 37  GarageCond    1460 non-null   object\n",
      " 38  PavedDrive    1460 non-null   object\n",
      " 39  PoolQC        1460 non-null   object\n",
      " 40  Fence         1460 non-null   object\n",
      " 41  MiscFeature   1460 non-null   object\n",
      "dtypes: object(42)\n",
      "memory usage: 479.2+ KB\n"
     ]
    }
   ],
   "source": [
    "cat_data = raw_data.select_dtypes(include=['object'])\n",
    "numeric_data = raw_data.select_dtypes(exclude=['object'])\n",
    "cat_cols = raw_data.select_dtypes(include=['object']).columns.values\n",
    "numeric_cols = raw_data.select_dtypes(exclude=['object']).columns.values\n",
    "cat_data.info()"
   ]
  },
  {
   "cell_type": "code",
   "execution_count": 18,
   "id": "e6fb787b",
   "metadata": {
    "execution": {
     "iopub.execute_input": "2023-10-29T20:10:32.445506Z",
     "iopub.status.busy": "2023-10-29T20:10:32.445017Z",
     "iopub.status.idle": "2023-10-29T20:10:32.562254Z",
     "shell.execute_reply": "2023-10-29T20:10:32.560901Z"
    },
    "papermill": {
     "duration": 0.144381,
     "end_time": "2023-10-29T20:10:32.565347",
     "exception": false,
     "start_time": "2023-10-29T20:10:32.420966",
     "status": "completed"
    },
    "tags": []
   },
   "outputs": [
    {
     "data": {
      "text/html": [
       "<div>\n",
       "<style scoped>\n",
       "    .dataframe tbody tr th:only-of-type {\n",
       "        vertical-align: middle;\n",
       "    }\n",
       "\n",
       "    .dataframe tbody tr th {\n",
       "        vertical-align: top;\n",
       "    }\n",
       "\n",
       "    .dataframe thead th {\n",
       "        text-align: right;\n",
       "    }\n",
       "</style>\n",
       "<table border=\"1\" class=\"dataframe\">\n",
       "  <thead>\n",
       "    <tr style=\"text-align: right;\">\n",
       "      <th></th>\n",
       "      <th>MSSubClass</th>\n",
       "      <th>LotFrontage</th>\n",
       "      <th>LotArea</th>\n",
       "      <th>OverallQual</th>\n",
       "      <th>OverallCond</th>\n",
       "      <th>YearBuilt</th>\n",
       "      <th>YearRemodAdd</th>\n",
       "      <th>BsmtFinSF1</th>\n",
       "      <th>BsmtFinSF2</th>\n",
       "      <th>BsmtUnfSF</th>\n",
       "      <th>...</th>\n",
       "      <th>GarageCars</th>\n",
       "      <th>GarageArea</th>\n",
       "      <th>WoodDeckSF</th>\n",
       "      <th>OpenPorchSF</th>\n",
       "      <th>EnclosedPorch</th>\n",
       "      <th>3SsnPorch</th>\n",
       "      <th>ScreenPorch</th>\n",
       "      <th>PoolArea</th>\n",
       "      <th>MiscVal</th>\n",
       "      <th>SalePrice</th>\n",
       "    </tr>\n",
       "  </thead>\n",
       "  <tbody>\n",
       "    <tr>\n",
       "      <th>count</th>\n",
       "      <td>1460.000000</td>\n",
       "      <td>1460.000000</td>\n",
       "      <td>1460.000000</td>\n",
       "      <td>1460.000000</td>\n",
       "      <td>1460.000000</td>\n",
       "      <td>1460.000000</td>\n",
       "      <td>1460.000000</td>\n",
       "      <td>1460.000000</td>\n",
       "      <td>1460.000000</td>\n",
       "      <td>1460.000000</td>\n",
       "      <td>...</td>\n",
       "      <td>1460.000000</td>\n",
       "      <td>1460.000000</td>\n",
       "      <td>1460.000000</td>\n",
       "      <td>1460.000000</td>\n",
       "      <td>1460.000000</td>\n",
       "      <td>1460.000000</td>\n",
       "      <td>1460.000000</td>\n",
       "      <td>1460.000000</td>\n",
       "      <td>1460.000000</td>\n",
       "      <td>1460.000000</td>\n",
       "    </tr>\n",
       "    <tr>\n",
       "      <th>mean</th>\n",
       "      <td>56.897260</td>\n",
       "      <td>70.049958</td>\n",
       "      <td>10516.828082</td>\n",
       "      <td>6.099315</td>\n",
       "      <td>5.575342</td>\n",
       "      <td>1971.267808</td>\n",
       "      <td>1984.865753</td>\n",
       "      <td>443.639726</td>\n",
       "      <td>46.549315</td>\n",
       "      <td>567.240411</td>\n",
       "      <td>...</td>\n",
       "      <td>1.767123</td>\n",
       "      <td>472.980137</td>\n",
       "      <td>94.244521</td>\n",
       "      <td>46.660274</td>\n",
       "      <td>21.954110</td>\n",
       "      <td>3.409589</td>\n",
       "      <td>15.060959</td>\n",
       "      <td>2.758904</td>\n",
       "      <td>43.489041</td>\n",
       "      <td>180921.195890</td>\n",
       "    </tr>\n",
       "    <tr>\n",
       "      <th>std</th>\n",
       "      <td>42.300571</td>\n",
       "      <td>22.024023</td>\n",
       "      <td>9981.264932</td>\n",
       "      <td>1.382997</td>\n",
       "      <td>1.112799</td>\n",
       "      <td>30.202904</td>\n",
       "      <td>20.645407</td>\n",
       "      <td>456.098091</td>\n",
       "      <td>161.319273</td>\n",
       "      <td>441.866955</td>\n",
       "      <td>...</td>\n",
       "      <td>0.747315</td>\n",
       "      <td>213.804841</td>\n",
       "      <td>125.338794</td>\n",
       "      <td>66.256028</td>\n",
       "      <td>61.119149</td>\n",
       "      <td>29.317331</td>\n",
       "      <td>55.757415</td>\n",
       "      <td>40.177307</td>\n",
       "      <td>496.123024</td>\n",
       "      <td>79442.502883</td>\n",
       "    </tr>\n",
       "    <tr>\n",
       "      <th>min</th>\n",
       "      <td>20.000000</td>\n",
       "      <td>21.000000</td>\n",
       "      <td>1300.000000</td>\n",
       "      <td>1.000000</td>\n",
       "      <td>1.000000</td>\n",
       "      <td>1872.000000</td>\n",
       "      <td>1950.000000</td>\n",
       "      <td>0.000000</td>\n",
       "      <td>0.000000</td>\n",
       "      <td>0.000000</td>\n",
       "      <td>...</td>\n",
       "      <td>0.000000</td>\n",
       "      <td>0.000000</td>\n",
       "      <td>0.000000</td>\n",
       "      <td>0.000000</td>\n",
       "      <td>0.000000</td>\n",
       "      <td>0.000000</td>\n",
       "      <td>0.000000</td>\n",
       "      <td>0.000000</td>\n",
       "      <td>0.000000</td>\n",
       "      <td>34900.000000</td>\n",
       "    </tr>\n",
       "    <tr>\n",
       "      <th>25%</th>\n",
       "      <td>20.000000</td>\n",
       "      <td>60.000000</td>\n",
       "      <td>7553.500000</td>\n",
       "      <td>5.000000</td>\n",
       "      <td>5.000000</td>\n",
       "      <td>1954.000000</td>\n",
       "      <td>1967.000000</td>\n",
       "      <td>0.000000</td>\n",
       "      <td>0.000000</td>\n",
       "      <td>223.000000</td>\n",
       "      <td>...</td>\n",
       "      <td>1.000000</td>\n",
       "      <td>334.500000</td>\n",
       "      <td>0.000000</td>\n",
       "      <td>0.000000</td>\n",
       "      <td>0.000000</td>\n",
       "      <td>0.000000</td>\n",
       "      <td>0.000000</td>\n",
       "      <td>0.000000</td>\n",
       "      <td>0.000000</td>\n",
       "      <td>129975.000000</td>\n",
       "    </tr>\n",
       "    <tr>\n",
       "      <th>50%</th>\n",
       "      <td>50.000000</td>\n",
       "      <td>70.049958</td>\n",
       "      <td>9478.500000</td>\n",
       "      <td>6.000000</td>\n",
       "      <td>5.000000</td>\n",
       "      <td>1973.000000</td>\n",
       "      <td>1994.000000</td>\n",
       "      <td>383.500000</td>\n",
       "      <td>0.000000</td>\n",
       "      <td>477.500000</td>\n",
       "      <td>...</td>\n",
       "      <td>2.000000</td>\n",
       "      <td>480.000000</td>\n",
       "      <td>0.000000</td>\n",
       "      <td>25.000000</td>\n",
       "      <td>0.000000</td>\n",
       "      <td>0.000000</td>\n",
       "      <td>0.000000</td>\n",
       "      <td>0.000000</td>\n",
       "      <td>0.000000</td>\n",
       "      <td>163000.000000</td>\n",
       "    </tr>\n",
       "    <tr>\n",
       "      <th>75%</th>\n",
       "      <td>70.000000</td>\n",
       "      <td>79.000000</td>\n",
       "      <td>11601.500000</td>\n",
       "      <td>7.000000</td>\n",
       "      <td>6.000000</td>\n",
       "      <td>2000.000000</td>\n",
       "      <td>2004.000000</td>\n",
       "      <td>712.250000</td>\n",
       "      <td>0.000000</td>\n",
       "      <td>808.000000</td>\n",
       "      <td>...</td>\n",
       "      <td>2.000000</td>\n",
       "      <td>576.000000</td>\n",
       "      <td>168.000000</td>\n",
       "      <td>68.000000</td>\n",
       "      <td>0.000000</td>\n",
       "      <td>0.000000</td>\n",
       "      <td>0.000000</td>\n",
       "      <td>0.000000</td>\n",
       "      <td>0.000000</td>\n",
       "      <td>214000.000000</td>\n",
       "    </tr>\n",
       "    <tr>\n",
       "      <th>max</th>\n",
       "      <td>190.000000</td>\n",
       "      <td>313.000000</td>\n",
       "      <td>215245.000000</td>\n",
       "      <td>10.000000</td>\n",
       "      <td>9.000000</td>\n",
       "      <td>2010.000000</td>\n",
       "      <td>2010.000000</td>\n",
       "      <td>5644.000000</td>\n",
       "      <td>1474.000000</td>\n",
       "      <td>2336.000000</td>\n",
       "      <td>...</td>\n",
       "      <td>4.000000</td>\n",
       "      <td>1418.000000</td>\n",
       "      <td>857.000000</td>\n",
       "      <td>547.000000</td>\n",
       "      <td>552.000000</td>\n",
       "      <td>508.000000</td>\n",
       "      <td>480.000000</td>\n",
       "      <td>738.000000</td>\n",
       "      <td>15500.000000</td>\n",
       "      <td>755000.000000</td>\n",
       "    </tr>\n",
       "  </tbody>\n",
       "</table>\n",
       "<p>8 rows × 34 columns</p>\n",
       "</div>"
      ],
      "text/plain": [
       "        MSSubClass  LotFrontage        LotArea  OverallQual  OverallCond  \\\n",
       "count  1460.000000  1460.000000    1460.000000  1460.000000  1460.000000   \n",
       "mean     56.897260    70.049958   10516.828082     6.099315     5.575342   \n",
       "std      42.300571    22.024023    9981.264932     1.382997     1.112799   \n",
       "min      20.000000    21.000000    1300.000000     1.000000     1.000000   \n",
       "25%      20.000000    60.000000    7553.500000     5.000000     5.000000   \n",
       "50%      50.000000    70.049958    9478.500000     6.000000     5.000000   \n",
       "75%      70.000000    79.000000   11601.500000     7.000000     6.000000   \n",
       "max     190.000000   313.000000  215245.000000    10.000000     9.000000   \n",
       "\n",
       "         YearBuilt  YearRemodAdd   BsmtFinSF1   BsmtFinSF2    BsmtUnfSF  ...  \\\n",
       "count  1460.000000   1460.000000  1460.000000  1460.000000  1460.000000  ...   \n",
       "mean   1971.267808   1984.865753   443.639726    46.549315   567.240411  ...   \n",
       "std      30.202904     20.645407   456.098091   161.319273   441.866955  ...   \n",
       "min    1872.000000   1950.000000     0.000000     0.000000     0.000000  ...   \n",
       "25%    1954.000000   1967.000000     0.000000     0.000000   223.000000  ...   \n",
       "50%    1973.000000   1994.000000   383.500000     0.000000   477.500000  ...   \n",
       "75%    2000.000000   2004.000000   712.250000     0.000000   808.000000  ...   \n",
       "max    2010.000000   2010.000000  5644.000000  1474.000000  2336.000000  ...   \n",
       "\n",
       "        GarageCars   GarageArea   WoodDeckSF  OpenPorchSF  EnclosedPorch  \\\n",
       "count  1460.000000  1460.000000  1460.000000  1460.000000    1460.000000   \n",
       "mean      1.767123   472.980137    94.244521    46.660274      21.954110   \n",
       "std       0.747315   213.804841   125.338794    66.256028      61.119149   \n",
       "min       0.000000     0.000000     0.000000     0.000000       0.000000   \n",
       "25%       1.000000   334.500000     0.000000     0.000000       0.000000   \n",
       "50%       2.000000   480.000000     0.000000    25.000000       0.000000   \n",
       "75%       2.000000   576.000000   168.000000    68.000000       0.000000   \n",
       "max       4.000000  1418.000000   857.000000   547.000000     552.000000   \n",
       "\n",
       "         3SsnPorch  ScreenPorch     PoolArea       MiscVal      SalePrice  \n",
       "count  1460.000000  1460.000000  1460.000000   1460.000000    1460.000000  \n",
       "mean      3.409589    15.060959     2.758904     43.489041  180921.195890  \n",
       "std      29.317331    55.757415    40.177307    496.123024   79442.502883  \n",
       "min       0.000000     0.000000     0.000000      0.000000   34900.000000  \n",
       "25%       0.000000     0.000000     0.000000      0.000000  129975.000000  \n",
       "50%       0.000000     0.000000     0.000000      0.000000  163000.000000  \n",
       "75%       0.000000     0.000000     0.000000      0.000000  214000.000000  \n",
       "max     508.000000   480.000000   738.000000  15500.000000  755000.000000  \n",
       "\n",
       "[8 rows x 34 columns]"
      ]
     },
     "execution_count": 18,
     "metadata": {},
     "output_type": "execute_result"
    }
   ],
   "source": [
    "raw_data.describe()"
   ]
  },
  {
   "cell_type": "code",
   "execution_count": 19,
   "id": "4713c212",
   "metadata": {
    "execution": {
     "iopub.execute_input": "2023-10-29T20:10:32.612561Z",
     "iopub.status.busy": "2023-10-29T20:10:32.612065Z",
     "iopub.status.idle": "2023-10-29T20:10:32.863897Z",
     "shell.execute_reply": "2023-10-29T20:10:32.862753Z"
    },
    "papermill": {
     "duration": 0.278936,
     "end_time": "2023-10-29T20:10:32.866842",
     "exception": false,
     "start_time": "2023-10-29T20:10:32.587906",
     "status": "completed"
    },
    "tags": []
   },
   "outputs": [],
   "source": [
    "Rare_dic = {}\n",
    "threshold = 0.03 \n",
    "for feature in cat_cols:\n",
    "    cats_counts = raw_data[feature].value_counts(normalize=True)\n",
    "    rare_categories = cats_counts[cats_counts < threshold].index\n",
    "    Rare_dic[feature] = list(rare_categories)\n",
    "    if raw_data[feature].nunique() > 2:\n",
    "        raw_data[feature] = raw_data[feature].apply(lambda x: 'other' if x in rare_categories else x)"
   ]
  },
  {
   "cell_type": "code",
   "execution_count": 20,
   "id": "3842f2a2",
   "metadata": {
    "execution": {
     "iopub.execute_input": "2023-10-29T20:10:32.914612Z",
     "iopub.status.busy": "2023-10-29T20:10:32.913317Z",
     "iopub.status.idle": "2023-10-29T20:10:32.927298Z",
     "shell.execute_reply": "2023-10-29T20:10:32.925968Z"
    },
    "papermill": {
     "duration": 0.040516,
     "end_time": "2023-10-29T20:10:32.929847",
     "exception": false,
     "start_time": "2023-10-29T20:10:32.889331",
     "status": "completed"
    },
    "tags": []
   },
   "outputs": [
    {
     "data": {
      "text/plain": [
       "{'MSZoning': ['RH', 'C (all)'],\n",
       " 'Street': ['Grvl'],\n",
       " 'Alley': ['Pave'],\n",
       " 'LotShape': ['IR2', 'IR3'],\n",
       " 'LandContour': ['Low'],\n",
       " 'Utilities': ['NoSeWa'],\n",
       " 'LotConfig': ['FR3'],\n",
       " 'LandSlope': ['Sev'],\n",
       " 'Neighborhood': ['NoRidge',\n",
       "  'Timber',\n",
       "  'IDOTRR',\n",
       "  'ClearCr',\n",
       "  'StoneBr',\n",
       "  'SWISU',\n",
       "  'MeadowV',\n",
       "  'Blmngtn',\n",
       "  'BrDale',\n",
       "  'Veenker',\n",
       "  'NPkVill',\n",
       "  'Blueste'],\n",
       " 'Condition1': ['RRAn', 'PosN', 'RRAe', 'PosA', 'RRNn', 'RRNe'],\n",
       " 'Condition2': ['Feedr', 'Artery', 'RRNn', 'PosN', 'PosA', 'RRAn', 'RRAe'],\n",
       " 'BldgType': ['Twnhs', '2fmCon'],\n",
       " 'HouseStyle': ['SFoyer', '1.5Unf', '2.5Unf', '2.5Fin'],\n",
       " 'RoofStyle': ['Flat', 'Gambrel', 'Mansard', 'Shed'],\n",
       " 'RoofMatl': ['Tar&Grv',\n",
       "  'WdShngl',\n",
       "  'WdShake',\n",
       "  'Metal',\n",
       "  'Membran',\n",
       "  'Roll',\n",
       "  'ClyTile'],\n",
       " 'Exterior1st': ['WdShing',\n",
       "  'Stucco',\n",
       "  'AsbShng',\n",
       "  'BrkComm',\n",
       "  'Stone',\n",
       "  'AsphShn',\n",
       "  'ImStucc',\n",
       "  'CBlock'],\n",
       " 'Exterior2nd': ['Wd Shng',\n",
       "  'Stucco',\n",
       "  'BrkFace',\n",
       "  'AsbShng',\n",
       "  'ImStucc',\n",
       "  'Brk Cmn',\n",
       "  'Stone',\n",
       "  'AsphShn',\n",
       "  'Other',\n",
       "  'CBlock'],\n",
       " 'MasVnrType': ['BrkCmn'],\n",
       " 'MasVnrArea': ['BrkCmn'],\n",
       " 'ExterQual': ['Fa'],\n",
       " 'ExterCond': ['Fa', 'Ex', 'Po'],\n",
       " 'Foundation': ['Slab', 'Stone', 'Wood'],\n",
       " 'BsmtQual': ['NoBsmt', 'Fa'],\n",
       " 'BsmtCond': ['NoBsmt', 'Po'],\n",
       " 'BsmtExposure': ['NoBsmt'],\n",
       " 'BsmtFinType1': ['NoBsmt'],\n",
       " 'BsmtFinType2': ['NoBsmt', 'BLQ', 'ALQ', 'GLQ'],\n",
       " 'Heating': ['GasW', 'Grav', 'Wall', 'OthW', 'Floor'],\n",
       " 'HeatingQC': ['Po'],\n",
       " 'CentralAir': [],\n",
       " 'Electrical': ['FuseF', 'FuseP', 'Mix'],\n",
       " 'KitchenQual': ['Fa'],\n",
       " 'Functional': ['Min2', 'Min1', 'Mod', 'Maj1', 'Maj2', 'Sev'],\n",
       " 'FireplaceQu': ['Fa', 'Ex', 'Po'],\n",
       " 'GarageType': ['Basment', 'CarPort', '2Types'],\n",
       " 'GarageFinish': [],\n",
       " 'GarageQual': ['Gd', 'Ex', 'Po'],\n",
       " 'GarageCond': ['Fa', 'Gd', 'Po', 'Ex'],\n",
       " 'PavedDrive': ['P'],\n",
       " 'PoolQC': ['Gd', 'Ex', 'Fa'],\n",
       " 'Fence': ['MnWw'],\n",
       " 'MiscFeature': ['Gar2', 'Othr', 'TenC']}"
      ]
     },
     "execution_count": 20,
     "metadata": {},
     "output_type": "execute_result"
    }
   ],
   "source": [
    "Rare_dic"
   ]
  },
  {
   "cell_type": "code",
   "execution_count": 21,
   "id": "80e56f57",
   "metadata": {
    "execution": {
     "iopub.execute_input": "2023-10-29T20:10:32.979310Z",
     "iopub.status.busy": "2023-10-29T20:10:32.978830Z",
     "iopub.status.idle": "2023-10-29T20:10:33.571259Z",
     "shell.execute_reply": "2023-10-29T20:10:33.569787Z"
    },
    "papermill": {
     "duration": 0.620311,
     "end_time": "2023-10-29T20:10:33.573922",
     "exception": false,
     "start_time": "2023-10-29T20:10:32.953611",
     "status": "completed"
    },
    "tags": []
   },
   "outputs": [
    {
     "name": "stderr",
     "output_type": "stream",
     "text": [
      "/tmp/ipykernel_20/1632303192.py:1: FutureWarning: The default value of numeric_only in DataFrame.corr is deprecated. In a future version, it will default to False. Select only valid columns or specify the value of numeric_only to silence this warning.\n",
      "  sns.heatmap(raw_data.corr(),fmt='.2f')\n"
     ]
    },
    {
     "data": {
      "text/plain": [
       "<Axes: >"
      ]
     },
     "execution_count": 21,
     "metadata": {},
     "output_type": "execute_result"
    },
    {
     "data": {
      "image/png": "[encoded data removed]",
      "text/plain": [
       "<Figure size 640x480 with 2 Axes>"
      ]
     },
     "metadata": {},
     "output_type": "display_data"
    }
   ],
   "source": [
    "sns.heatmap(raw_data.corr(),fmt='.2f')"
   ]
  },
  {
   "cell_type": "code",
   "execution_count": 22,
   "id": "6c1eeb1c",
   "metadata": {
    "execution": {
     "iopub.execute_input": "2023-10-29T20:10:33.625268Z",
     "iopub.status.busy": "2023-10-29T20:10:33.624847Z",
     "iopub.status.idle": "2023-10-29T20:10:42.931456Z",
     "shell.execute_reply": "2023-10-29T20:10:42.929910Z"
    },
    "papermill": {
     "duration": 9.335946,
     "end_time": "2023-10-29T20:10:42.934639",
     "exception": false,
     "start_time": "2023-10-29T20:10:33.598693",
     "status": "completed"
    },
    "tags": []
   },
   "outputs": [
    {
     "data": {
      "image/png": "[encoded data removed]",
      "text/plain": [
       "<Figure size 2000x2000 with 36 Axes>"
      ]
     },
     "metadata": {},
     "output_type": "display_data"
    }
   ],
   "source": [
    "raw_data[numeric_cols].hist(bins=50, figsize=(20,20))\n",
    "plt.show()"
   ]
  },
  {
   "cell_type": "markdown",
   "id": "96178d6d",
   "metadata": {
    "papermill": {
     "duration": 0.028245,
     "end_time": "2023-10-29T20:10:42.991837",
     "exception": false,
     "start_time": "2023-10-29T20:10:42.963592",
     "status": "completed"
    },
    "tags": []
   },
   "source": [
    "Useless features for model\n"
   ]
  },
  {
   "cell_type": "code",
   "execution_count": 23,
   "id": "212815d0",
   "metadata": {
    "execution": {
     "iopub.execute_input": "2023-10-29T20:10:43.051521Z",
     "iopub.status.busy": "2023-10-29T20:10:43.050397Z",
     "iopub.status.idle": "2023-10-29T20:10:43.059508Z",
     "shell.execute_reply": "2023-10-29T20:10:43.058157Z"
    },
    "papermill": {
     "duration": 0.042415,
     "end_time": "2023-10-29T20:10:43.061921",
     "exception": false,
     "start_time": "2023-10-29T20:10:43.019506",
     "status": "completed"
    },
    "tags": []
   },
   "outputs": [],
   "source": [
    "raw_data.drop(['LowQualFinSF','ScreenPorch','BsmtFinSF2', 'EnclosedPorch', '3SsnPorch', 'MiscVal','PoolArea'], axis=1, inplace=True)"
   ]
  },
  {
   "cell_type": "code",
   "execution_count": 24,
   "id": "0ea10a52",
   "metadata": {
    "execution": {
     "iopub.execute_input": "2023-10-29T20:10:43.121495Z",
     "iopub.status.busy": "2023-10-29T20:10:43.121000Z",
     "iopub.status.idle": "2023-10-29T20:10:43.161398Z",
     "shell.execute_reply": "2023-10-29T20:10:43.160015Z"
    },
    "papermill": {
     "duration": 0.074236,
     "end_time": "2023-10-29T20:10:43.164236",
     "exception": false,
     "start_time": "2023-10-29T20:10:43.090000",
     "status": "completed"
    },
    "tags": []
   },
   "outputs": [
    {
     "name": "stdout",
     "output_type": "stream",
     "text": [
      "<class 'pandas.core.frame.DataFrame'>\n",
      "RangeIndex: 1460 entries, 0 to 1459\n",
      "Data columns (total 42 columns):\n",
      " #   Column        Non-Null Count  Dtype \n",
      "---  ------        --------------  ----- \n",
      " 0   MSZoning      1460 non-null   object\n",
      " 1   Street        1460 non-null   object\n",
      " 2   Alley         1460 non-null   object\n",
      " 3   LotShape      1460 non-null   object\n",
      " 4   LandContour   1460 non-null   object\n",
      " 5   Utilities     1460 non-null   object\n",
      " 6   LotConfig     1460 non-null   object\n",
      " 7   LandSlope     1460 non-null   object\n",
      " 8   Neighborhood  1460 non-null   object\n",
      " 9   Condition1    1460 non-null   object\n",
      " 10  Condition2    1460 non-null   object\n",
      " 11  BldgType      1460 non-null   object\n",
      " 12  HouseStyle    1460 non-null   object\n",
      " 13  RoofStyle     1460 non-null   object\n",
      " 14  RoofMatl      1460 non-null   object\n",
      " 15  Exterior1st   1460 non-null   object\n",
      " 16  Exterior2nd   1460 non-null   object\n",
      " 17  MasVnrType    1460 non-null   object\n",
      " 18  MasVnrArea    1460 non-null   object\n",
      " 19  ExterQual     1460 non-null   object\n",
      " 20  ExterCond     1460 non-null   object\n",
      " 21  Foundation    1460 non-null   object\n",
      " 22  BsmtQual      1460 non-null   object\n",
      " 23  BsmtCond      1460 non-null   object\n",
      " 24  BsmtExposure  1460 non-null   object\n",
      " 25  BsmtFinType1  1460 non-null   object\n",
      " 26  BsmtFinType2  1460 non-null   object\n",
      " 27  Heating       1460 non-null   object\n",
      " 28  HeatingQC     1460 non-null   object\n",
      " 29  CentralAir    1460 non-null   object\n",
      " 30  Electrical    1460 non-null   object\n",
      " 31  KitchenQual   1460 non-null   object\n",
      " 32  Functional    1460 non-null   object\n",
      " 33  FireplaceQu   1460 non-null   object\n",
      " 34  GarageType    1460 non-null   object\n",
      " 35  GarageFinish  1460 non-null   object\n",
      " 36  GarageQual    1460 non-null   object\n",
      " 37  GarageCond    1460 non-null   object\n",
      " 38  PavedDrive    1460 non-null   object\n",
      " 39  PoolQC        1460 non-null   object\n",
      " 40  Fence         1460 non-null   object\n",
      " 41  MiscFeature   1460 non-null   object\n",
      "dtypes: object(42)\n",
      "memory usage: 479.2+ KB\n"
     ]
    }
   ],
   "source": [
    "cat_data = raw_data.select_dtypes(include=['object'])\n",
    "numeric_data = raw_data.select_dtypes(exclude=['object'])\n",
    "cat_cols = raw_data.select_dtypes(include=['object']).columns.values\n",
    "numeric_cols = raw_data.select_dtypes(exclude=['object']).columns.values\n",
    "cat_data.info()"
   ]
  },
  {
   "cell_type": "code",
   "execution_count": 25,
   "id": "f3aea103",
   "metadata": {
    "execution": {
     "iopub.execute_input": "2023-10-29T20:10:43.226384Z",
     "iopub.status.busy": "2023-10-29T20:10:43.225580Z",
     "iopub.status.idle": "2023-10-29T20:10:43.238984Z",
     "shell.execute_reply": "2023-10-29T20:10:43.237949Z"
    },
    "papermill": {
     "duration": 0.047433,
     "end_time": "2023-10-29T20:10:43.241355",
     "exception": false,
     "start_time": "2023-10-29T20:10:43.193922",
     "status": "completed"
    },
    "tags": []
   },
   "outputs": [
    {
     "data": {
      "text/plain": [
       "0       208500\n",
       "1       181500\n",
       "2       223500\n",
       "3       140000\n",
       "4       250000\n",
       "         ...  \n",
       "1455    175000\n",
       "1456    210000\n",
       "1457    266500\n",
       "1458    142125\n",
       "1459    147500\n",
       "Name: SalePrice, Length: 1460, dtype: int64"
      ]
     },
     "execution_count": 25,
     "metadata": {},
     "output_type": "execute_result"
    }
   ],
   "source": [
    "y = raw_data['SalePrice']\n",
    "raw_data.drop(columns=['SalePrice',], inplace = True)\n",
    "y"
   ]
  },
  {
   "cell_type": "code",
   "execution_count": 26,
   "id": "9c24466c",
   "metadata": {
    "execution": {
     "iopub.execute_input": "2023-10-29T20:10:43.303614Z",
     "iopub.status.busy": "2023-10-29T20:10:43.302098Z",
     "iopub.status.idle": "2023-10-29T20:10:43.307724Z",
     "shell.execute_reply": "2023-10-29T20:10:43.306698Z"
    },
    "papermill": {
     "duration": 0.038725,
     "end_time": "2023-10-29T20:10:43.309901",
     "exception": false,
     "start_time": "2023-10-29T20:10:43.271176",
     "status": "completed"
    },
    "tags": []
   },
   "outputs": [],
   "source": [
    "X = raw_data"
   ]
  },
  {
   "cell_type": "code",
   "execution_count": 27,
   "id": "fe56316e",
   "metadata": {
    "execution": {
     "iopub.execute_input": "2023-10-29T20:10:43.369371Z",
     "iopub.status.busy": "2023-10-29T20:10:43.368914Z",
     "iopub.status.idle": "2023-10-29T20:10:43.375887Z",
     "shell.execute_reply": "2023-10-29T20:10:43.374932Z"
    },
    "papermill": {
     "duration": 0.039499,
     "end_time": "2023-10-29T20:10:43.378235",
     "exception": false,
     "start_time": "2023-10-29T20:10:43.338736",
     "status": "completed"
    },
    "tags": []
   },
   "outputs": [],
   "source": [
    "cat_cols = raw_data.select_dtypes(include=['object']).columns.values\n",
    "numeric_cols = raw_data.select_dtypes(exclude=['object']).columns.values"
   ]
  },
  {
   "cell_type": "markdown",
   "id": "21391d1f",
   "metadata": {
    "papermill": {
     "duration": 0.028229,
     "end_time": "2023-10-29T20:10:43.435323",
     "exception": false,
     "start_time": "2023-10-29T20:10:43.407094",
     "status": "completed"
    },
    "tags": []
   },
   "source": [
    "<font size=5>**Split data**</font>"
   ]
  },
  {
   "cell_type": "code",
   "execution_count": 28,
   "id": "c5f435f3",
   "metadata": {
    "execution": {
     "iopub.execute_input": "2023-10-29T20:10:43.495765Z",
     "iopub.status.busy": "2023-10-29T20:10:43.494970Z",
     "iopub.status.idle": "2023-10-29T20:10:43.832717Z",
     "shell.execute_reply": "2023-10-29T20:10:43.831250Z"
    },
    "papermill": {
     "duration": 0.37152,
     "end_time": "2023-10-29T20:10:43.836137",
     "exception": false,
     "start_time": "2023-10-29T20:10:43.464617",
     "status": "completed"
    },
    "tags": []
   },
   "outputs": [],
   "source": [
    "from sklearn.model_selection import train_test_split\n",
    "\n",
    "X_train, X_test, y_train, y_test = train_test_split(X , y, test_size=0.25, random_state=50)"
   ]
  },
  {
   "cell_type": "markdown",
   "id": "d1e10c32",
   "metadata": {
    "papermill": {
     "duration": 0.029382,
     "end_time": "2023-10-29T20:10:43.894411",
     "exception": false,
     "start_time": "2023-10-29T20:10:43.865029",
     "status": "completed"
    },
    "tags": []
   },
   "source": [
    "<font size=5>**data preparation pipeline**</font>"
   ]
  },
  {
   "cell_type": "code",
   "execution_count": 29,
   "id": "6cfafcc4",
   "metadata": {
    "execution": {
     "iopub.execute_input": "2023-10-29T20:10:43.956467Z",
     "iopub.status.busy": "2023-10-29T20:10:43.955959Z",
     "iopub.status.idle": "2023-10-29T20:10:44.419146Z",
     "shell.execute_reply": "2023-10-29T20:10:44.417656Z"
    },
    "papermill": {
     "duration": 0.497979,
     "end_time": "2023-10-29T20:10:44.422461",
     "exception": false,
     "start_time": "2023-10-29T20:10:43.924482",
     "status": "completed"
    },
    "tags": []
   },
   "outputs": [],
   "source": [
    "from sklearn.pipeline import make_pipeline\n",
    "from sklearn.pipeline import Pipeline\n",
    "from sklearn.preprocessing import OneHotEncoder, StandardScaler \n",
    "from sklearn.compose import ColumnTransformer\n",
    "from sklearn.ensemble import RandomForestRegressor\n",
    "\n",
    "preprocessor = ColumnTransformer(\n",
    "    [\n",
    "        ('num', StandardScaler(), numeric_cols),\n",
    "        (\n",
    "            'cat',\n",
    "            OneHotEncoder(handle_unknown='ignore'),\n",
    "            cat_cols\n",
    "        )\n",
    "    ],\n",
    "    verbose_feature_names_out = True,\n",
    ")\n",
    "\n",
    "alg = Pipeline(steps=[\n",
    "    ('enc', preprocessor),\n",
    "    ('alg', RandomForestRegressor())\n",
    "])"
   ]
  },
  {
   "cell_type": "markdown",
   "id": "b34021d9",
   "metadata": {
    "papermill": {
     "duration": 0.028554,
     "end_time": "2023-10-29T20:10:44.479678",
     "exception": false,
     "start_time": "2023-10-29T20:10:44.451124",
     "status": "completed"
    },
    "tags": []
   },
   "source": [
    "<font size=5>**Grid_Search**</font>"
   ]
  },
  {
   "cell_type": "code",
   "execution_count": 30,
   "id": "a43d82b8",
   "metadata": {
    "execution": {
     "iopub.execute_input": "2023-10-29T20:10:44.539916Z",
     "iopub.status.busy": "2023-10-29T20:10:44.539510Z",
     "iopub.status.idle": "2023-10-29T20:10:44.546605Z",
     "shell.execute_reply": "2023-10-29T20:10:44.545313Z"
    },
    "papermill": {
     "duration": 0.04048,
     "end_time": "2023-10-29T20:10:44.548968",
     "exception": false,
     "start_time": "2023-10-29T20:10:44.508488",
     "status": "completed"
    },
    "tags": []
   },
   "outputs": [],
   "source": [
    "params ={\n",
    "    \"alg__n_estimators\": [100, 200, 300, 400 , 500 , 1000],   \n",
    "    \"alg__max_features\": ['sqrt', 'log2'],                     \n",
    "    \"alg__min_samples_split\": [2, 5, 10 , 20 , 50],            \n",
    "    \"alg__min_samples_leaf\": [1, 2, 4 ,8],                     \n",
    "    \"alg__bootstrap\": [True, False]\n",
    "}"
   ]
  },
  {
   "cell_type": "code",
   "execution_count": 31,
   "id": "f1673879",
   "metadata": {
    "execution": {
     "iopub.execute_input": "2023-10-29T20:10:44.609761Z",
     "iopub.status.busy": "2023-10-29T20:10:44.609319Z",
     "iopub.status.idle": "2023-10-29T20:11:18.334860Z",
     "shell.execute_reply": "2023-10-29T20:11:18.333271Z"
    },
    "papermill": {
     "duration": 33.786704,
     "end_time": "2023-10-29T20:11:18.365154",
     "exception": false,
     "start_time": "2023-10-29T20:10:44.578450",
     "status": "completed"
    },
    "tags": []
   },
   "outputs": [
    {
     "name": "stderr",
     "output_type": "stream",
     "text": [
      "/opt/conda/lib/python3.10/site-packages/scipy/__init__.py:146: UserWarning: A NumPy version >=1.16.5 and <1.23.0 is required for this version of SciPy (detected version 1.23.5\n",
      "  warnings.warn(f\"A NumPy version >={np_minversion} and <{np_maxversion}\"\n",
      "/opt/conda/lib/python3.10/site-packages/scipy/__init__.py:146: UserWarning: A NumPy version >=1.16.5 and <1.23.0 is required for this version of SciPy (detected version 1.23.5\n",
      "  warnings.warn(f\"A NumPy version >={np_minversion} and <{np_maxversion}\"\n",
      "/opt/conda/lib/python3.10/site-packages/scipy/__init__.py:146: UserWarning: A NumPy version >=1.16.5 and <1.23.0 is required for this version of SciPy (detected version 1.23.5\n",
      "  warnings.warn(f\"A NumPy version >={np_minversion} and <{np_maxversion}\"\n",
      "/opt/conda/lib/python3.10/site-packages/scipy/__init__.py:146: UserWarning: A NumPy version >=1.16.5 and <1.23.0 is required for this version of SciPy (detected version 1.23.5\n",
      "  warnings.warn(f\"A NumPy version >={np_minversion} and <{np_maxversion}\"\n"
     ]
    },
    {
     "data": {
      "text/plain": [
       "{'alg__n_estimators': 1000,\n",
       " 'alg__min_samples_split': 5,\n",
       " 'alg__min_samples_leaf': 2,\n",
       " 'alg__max_features': 'sqrt',\n",
       " 'alg__bootstrap': False}"
      ]
     },
     "execution_count": 31,
     "metadata": {},
     "output_type": "execute_result"
    }
   ],
   "source": [
    "from sklearn.model_selection import RandomizedSearchCV\n",
    "\n",
    "rs = RandomizedSearchCV(\n",
    "    alg,\n",
    "    params,\n",
    "    cv=5,\n",
    "    verbose=0,\n",
    "    n_jobs=-1,\n",
    "    scoring=\"neg_mean_squared_error\"\n",
    ")\n",
    "\n",
    "rs.fit(X_train, y_train)\n",
    "rs.best_params_"
   ]
  },
  {
   "cell_type": "markdown",
   "id": "2d2411d1",
   "metadata": {
    "papermill": {
     "duration": 0.027956,
     "end_time": "2023-10-29T20:11:18.421631",
     "exception": false,
     "start_time": "2023-10-29T20:11:18.393675",
     "status": "completed"
    },
    "tags": []
   },
   "source": [
    "<font size=5>**Make predict with best parametrs**</font>"
   ]
  },
  {
   "cell_type": "code",
   "execution_count": 32,
   "id": "b1982676",
   "metadata": {
    "execution": {
     "iopub.execute_input": "2023-10-29T20:11:18.481739Z",
     "iopub.status.busy": "2023-10-29T20:11:18.480162Z",
     "iopub.status.idle": "2023-10-29T20:11:18.694125Z",
     "shell.execute_reply": "2023-10-29T20:11:18.692735Z"
    },
    "papermill": {
     "duration": 0.247759,
     "end_time": "2023-10-29T20:11:18.697551",
     "exception": false,
     "start_time": "2023-10-29T20:11:18.449792",
     "status": "completed"
    },
    "tags": []
   },
   "outputs": [
    {
     "data": {
      "text/plain": [
       "(0.8907009222564771, 11105.588162582804)"
      ]
     },
     "execution_count": 32,
     "metadata": {},
     "output_type": "execute_result"
    }
   ],
   "source": [
    "from sklearn.metrics import r2_score,median_absolute_error\n",
    "\n",
    "preds = rs.best_estimator_.predict(X_test)\n",
    "r2_score(y_test, preds), median_absolute_error(y_test, preds)"
   ]
  },
  {
   "cell_type": "markdown",
   "id": "39706f84",
   "metadata": {
    "papermill": {
     "duration": 0.028093,
     "end_time": "2023-10-29T20:11:18.754236",
     "exception": false,
     "start_time": "2023-10-29T20:11:18.726143",
     "status": "completed"
    },
    "tags": []
   },
   "source": [
    "<font size=5>**Predict with test data**</font>"
   ]
  },
  {
   "cell_type": "code",
   "execution_count": 33,
   "id": "c8b2ec7c",
   "metadata": {
    "execution": {
     "iopub.execute_input": "2023-10-29T20:11:18.813254Z",
     "iopub.status.busy": "2023-10-29T20:11:18.812709Z",
     "iopub.status.idle": "2023-10-29T20:11:18.888070Z",
     "shell.execute_reply": "2023-10-29T20:11:18.886685Z"
    },
    "papermill": {
     "duration": 0.108449,
     "end_time": "2023-10-29T20:11:18.890859",
     "exception": false,
     "start_time": "2023-10-29T20:11:18.782410",
     "status": "completed"
    },
    "tags": []
   },
   "outputs": [
    {
     "data": {
      "text/html": [
       "<div>\n",
       "<style scoped>\n",
       "    .dataframe tbody tr th:only-of-type {\n",
       "        vertical-align: middle;\n",
       "    }\n",
       "\n",
       "    .dataframe tbody tr th {\n",
       "        vertical-align: top;\n",
       "    }\n",
       "\n",
       "    .dataframe thead th {\n",
       "        text-align: right;\n",
       "    }\n",
       "</style>\n",
       "<table border=\"1\" class=\"dataframe\">\n",
       "  <thead>\n",
       "    <tr style=\"text-align: right;\">\n",
       "      <th></th>\n",
       "      <th>Id</th>\n",
       "      <th>MSSubClass</th>\n",
       "      <th>MSZoning</th>\n",
       "      <th>LotFrontage</th>\n",
       "      <th>LotArea</th>\n",
       "      <th>Street</th>\n",
       "      <th>Alley</th>\n",
       "      <th>LotShape</th>\n",
       "      <th>LandContour</th>\n",
       "      <th>Utilities</th>\n",
       "      <th>...</th>\n",
       "      <th>ScreenPorch</th>\n",
       "      <th>PoolArea</th>\n",
       "      <th>PoolQC</th>\n",
       "      <th>Fence</th>\n",
       "      <th>MiscFeature</th>\n",
       "      <th>MiscVal</th>\n",
       "      <th>MoSold</th>\n",
       "      <th>YrSold</th>\n",
       "      <th>SaleType</th>\n",
       "      <th>SaleCondition</th>\n",
       "    </tr>\n",
       "  </thead>\n",
       "  <tbody>\n",
       "    <tr>\n",
       "      <th>0</th>\n",
       "      <td>1461</td>\n",
       "      <td>20</td>\n",
       "      <td>RH</td>\n",
       "      <td>80.0</td>\n",
       "      <td>11622</td>\n",
       "      <td>Pave</td>\n",
       "      <td>NaN</td>\n",
       "      <td>Reg</td>\n",
       "      <td>Lvl</td>\n",
       "      <td>AllPub</td>\n",
       "      <td>...</td>\n",
       "      <td>120</td>\n",
       "      <td>0</td>\n",
       "      <td>NaN</td>\n",
       "      <td>MnPrv</td>\n",
       "      <td>NaN</td>\n",
       "      <td>0</td>\n",
       "      <td>6</td>\n",
       "      <td>2010</td>\n",
       "      <td>WD</td>\n",
       "      <td>Normal</td>\n",
       "    </tr>\n",
       "    <tr>\n",
       "      <th>1</th>\n",
       "      <td>1462</td>\n",
       "      <td>20</td>\n",
       "      <td>RL</td>\n",
       "      <td>81.0</td>\n",
       "      <td>14267</td>\n",
       "      <td>Pave</td>\n",
       "      <td>NaN</td>\n",
       "      <td>IR1</td>\n",
       "      <td>Lvl</td>\n",
       "      <td>AllPub</td>\n",
       "      <td>...</td>\n",
       "      <td>0</td>\n",
       "      <td>0</td>\n",
       "      <td>NaN</td>\n",
       "      <td>NaN</td>\n",
       "      <td>Gar2</td>\n",
       "      <td>12500</td>\n",
       "      <td>6</td>\n",
       "      <td>2010</td>\n",
       "      <td>WD</td>\n",
       "      <td>Normal</td>\n",
       "    </tr>\n",
       "    <tr>\n",
       "      <th>2</th>\n",
       "      <td>1463</td>\n",
       "      <td>60</td>\n",
       "      <td>RL</td>\n",
       "      <td>74.0</td>\n",
       "      <td>13830</td>\n",
       "      <td>Pave</td>\n",
       "      <td>NaN</td>\n",
       "      <td>IR1</td>\n",
       "      <td>Lvl</td>\n",
       "      <td>AllPub</td>\n",
       "      <td>...</td>\n",
       "      <td>0</td>\n",
       "      <td>0</td>\n",
       "      <td>NaN</td>\n",
       "      <td>MnPrv</td>\n",
       "      <td>NaN</td>\n",
       "      <td>0</td>\n",
       "      <td>3</td>\n",
       "      <td>2010</td>\n",
       "      <td>WD</td>\n",
       "      <td>Normal</td>\n",
       "    </tr>\n",
       "    <tr>\n",
       "      <th>3</th>\n",
       "      <td>1464</td>\n",
       "      <td>60</td>\n",
       "      <td>RL</td>\n",
       "      <td>78.0</td>\n",
       "      <td>9978</td>\n",
       "      <td>Pave</td>\n",
       "      <td>NaN</td>\n",
       "      <td>IR1</td>\n",
       "      <td>Lvl</td>\n",
       "      <td>AllPub</td>\n",
       "      <td>...</td>\n",
       "      <td>0</td>\n",
       "      <td>0</td>\n",
       "      <td>NaN</td>\n",
       "      <td>NaN</td>\n",
       "      <td>NaN</td>\n",
       "      <td>0</td>\n",
       "      <td>6</td>\n",
       "      <td>2010</td>\n",
       "      <td>WD</td>\n",
       "      <td>Normal</td>\n",
       "    </tr>\n",
       "    <tr>\n",
       "      <th>4</th>\n",
       "      <td>1465</td>\n",
       "      <td>120</td>\n",
       "      <td>RL</td>\n",
       "      <td>43.0</td>\n",
       "      <td>5005</td>\n",
       "      <td>Pave</td>\n",
       "      <td>NaN</td>\n",
       "      <td>IR1</td>\n",
       "      <td>HLS</td>\n",
       "      <td>AllPub</td>\n",
       "      <td>...</td>\n",
       "      <td>144</td>\n",
       "      <td>0</td>\n",
       "      <td>NaN</td>\n",
       "      <td>NaN</td>\n",
       "      <td>NaN</td>\n",
       "      <td>0</td>\n",
       "      <td>1</td>\n",
       "      <td>2010</td>\n",
       "      <td>WD</td>\n",
       "      <td>Normal</td>\n",
       "    </tr>\n",
       "    <tr>\n",
       "      <th>...</th>\n",
       "      <td>...</td>\n",
       "      <td>...</td>\n",
       "      <td>...</td>\n",
       "      <td>...</td>\n",
       "      <td>...</td>\n",
       "      <td>...</td>\n",
       "      <td>...</td>\n",
       "      <td>...</td>\n",
       "      <td>...</td>\n",
       "      <td>...</td>\n",
       "      <td>...</td>\n",
       "      <td>...</td>\n",
       "      <td>...</td>\n",
       "      <td>...</td>\n",
       "      <td>...</td>\n",
       "      <td>...</td>\n",
       "      <td>...</td>\n",
       "      <td>...</td>\n",
       "      <td>...</td>\n",
       "      <td>...</td>\n",
       "      <td>...</td>\n",
       "    </tr>\n",
       "    <tr>\n",
       "      <th>1454</th>\n",
       "      <td>2915</td>\n",
       "      <td>160</td>\n",
       "      <td>RM</td>\n",
       "      <td>21.0</td>\n",
       "      <td>1936</td>\n",
       "      <td>Pave</td>\n",
       "      <td>NaN</td>\n",
       "      <td>Reg</td>\n",
       "      <td>Lvl</td>\n",
       "      <td>AllPub</td>\n",
       "      <td>...</td>\n",
       "      <td>0</td>\n",
       "      <td>0</td>\n",
       "      <td>NaN</td>\n",
       "      <td>NaN</td>\n",
       "      <td>NaN</td>\n",
       "      <td>0</td>\n",
       "      <td>6</td>\n",
       "      <td>2006</td>\n",
       "      <td>WD</td>\n",
       "      <td>Normal</td>\n",
       "    </tr>\n",
       "    <tr>\n",
       "      <th>1455</th>\n",
       "      <td>2916</td>\n",
       "      <td>160</td>\n",
       "      <td>RM</td>\n",
       "      <td>21.0</td>\n",
       "      <td>1894</td>\n",
       "      <td>Pave</td>\n",
       "      <td>NaN</td>\n",
       "      <td>Reg</td>\n",
       "      <td>Lvl</td>\n",
       "      <td>AllPub</td>\n",
       "      <td>...</td>\n",
       "      <td>0</td>\n",
       "      <td>0</td>\n",
       "      <td>NaN</td>\n",
       "      <td>NaN</td>\n",
       "      <td>NaN</td>\n",
       "      <td>0</td>\n",
       "      <td>4</td>\n",
       "      <td>2006</td>\n",
       "      <td>WD</td>\n",
       "      <td>Abnorml</td>\n",
       "    </tr>\n",
       "    <tr>\n",
       "      <th>1456</th>\n",
       "      <td>2917</td>\n",
       "      <td>20</td>\n",
       "      <td>RL</td>\n",
       "      <td>160.0</td>\n",
       "      <td>20000</td>\n",
       "      <td>Pave</td>\n",
       "      <td>NaN</td>\n",
       "      <td>Reg</td>\n",
       "      <td>Lvl</td>\n",
       "      <td>AllPub</td>\n",
       "      <td>...</td>\n",
       "      <td>0</td>\n",
       "      <td>0</td>\n",
       "      <td>NaN</td>\n",
       "      <td>NaN</td>\n",
       "      <td>NaN</td>\n",
       "      <td>0</td>\n",
       "      <td>9</td>\n",
       "      <td>2006</td>\n",
       "      <td>WD</td>\n",
       "      <td>Abnorml</td>\n",
       "    </tr>\n",
       "    <tr>\n",
       "      <th>1457</th>\n",
       "      <td>2918</td>\n",
       "      <td>85</td>\n",
       "      <td>RL</td>\n",
       "      <td>62.0</td>\n",
       "      <td>10441</td>\n",
       "      <td>Pave</td>\n",
       "      <td>NaN</td>\n",
       "      <td>Reg</td>\n",
       "      <td>Lvl</td>\n",
       "      <td>AllPub</td>\n",
       "      <td>...</td>\n",
       "      <td>0</td>\n",
       "      <td>0</td>\n",
       "      <td>NaN</td>\n",
       "      <td>MnPrv</td>\n",
       "      <td>Shed</td>\n",
       "      <td>700</td>\n",
       "      <td>7</td>\n",
       "      <td>2006</td>\n",
       "      <td>WD</td>\n",
       "      <td>Normal</td>\n",
       "    </tr>\n",
       "    <tr>\n",
       "      <th>1458</th>\n",
       "      <td>2919</td>\n",
       "      <td>60</td>\n",
       "      <td>RL</td>\n",
       "      <td>74.0</td>\n",
       "      <td>9627</td>\n",
       "      <td>Pave</td>\n",
       "      <td>NaN</td>\n",
       "      <td>Reg</td>\n",
       "      <td>Lvl</td>\n",
       "      <td>AllPub</td>\n",
       "      <td>...</td>\n",
       "      <td>0</td>\n",
       "      <td>0</td>\n",
       "      <td>NaN</td>\n",
       "      <td>NaN</td>\n",
       "      <td>NaN</td>\n",
       "      <td>0</td>\n",
       "      <td>11</td>\n",
       "      <td>2006</td>\n",
       "      <td>WD</td>\n",
       "      <td>Normal</td>\n",
       "    </tr>\n",
       "  </tbody>\n",
       "</table>\n",
       "<p>1459 rows × 80 columns</p>\n",
       "</div>"
      ],
      "text/plain": [
       "        Id  MSSubClass MSZoning  LotFrontage  LotArea Street Alley LotShape  \\\n",
       "0     1461          20       RH         80.0    11622   Pave   NaN      Reg   \n",
       "1     1462          20       RL         81.0    14267   Pave   NaN      IR1   \n",
       "2     1463          60       RL         74.0    13830   Pave   NaN      IR1   \n",
       "3     1464          60       RL         78.0     9978   Pave   NaN      IR1   \n",
       "4     1465         120       RL         43.0     5005   Pave   NaN      IR1   \n",
       "...    ...         ...      ...          ...      ...    ...   ...      ...   \n",
       "1454  2915         160       RM         21.0     1936   Pave   NaN      Reg   \n",
       "1455  2916         160       RM         21.0     1894   Pave   NaN      Reg   \n",
       "1456  2917          20       RL        160.0    20000   Pave   NaN      Reg   \n",
       "1457  2918          85       RL         62.0    10441   Pave   NaN      Reg   \n",
       "1458  2919          60       RL         74.0     9627   Pave   NaN      Reg   \n",
       "\n",
       "     LandContour Utilities  ... ScreenPorch PoolArea PoolQC  Fence  \\\n",
       "0            Lvl    AllPub  ...         120        0    NaN  MnPrv   \n",
       "1            Lvl    AllPub  ...           0        0    NaN    NaN   \n",
       "2            Lvl    AllPub  ...           0        0    NaN  MnPrv   \n",
       "3            Lvl    AllPub  ...           0        0    NaN    NaN   \n",
       "4            HLS    AllPub  ...         144        0    NaN    NaN   \n",
       "...          ...       ...  ...         ...      ...    ...    ...   \n",
       "1454         Lvl    AllPub  ...           0        0    NaN    NaN   \n",
       "1455         Lvl    AllPub  ...           0        0    NaN    NaN   \n",
       "1456         Lvl    AllPub  ...           0        0    NaN    NaN   \n",
       "1457         Lvl    AllPub  ...           0        0    NaN  MnPrv   \n",
       "1458         Lvl    AllPub  ...           0        0    NaN    NaN   \n",
       "\n",
       "     MiscFeature MiscVal MoSold  YrSold  SaleType  SaleCondition  \n",
       "0            NaN       0      6    2010        WD         Normal  \n",
       "1           Gar2   12500      6    2010        WD         Normal  \n",
       "2            NaN       0      3    2010        WD         Normal  \n",
       "3            NaN       0      6    2010        WD         Normal  \n",
       "4            NaN       0      1    2010        WD         Normal  \n",
       "...          ...     ...    ...     ...       ...            ...  \n",
       "1454         NaN       0      6    2006        WD         Normal  \n",
       "1455         NaN       0      4    2006        WD        Abnorml  \n",
       "1456         NaN       0      9    2006        WD        Abnorml  \n",
       "1457        Shed     700      7    2006        WD         Normal  \n",
       "1458         NaN       0     11    2006        WD         Normal  \n",
       "\n",
       "[1459 rows x 80 columns]"
      ]
     },
     "execution_count": 33,
     "metadata": {},
     "output_type": "execute_result"
    }
   ],
   "source": [
    "test = pd.read_csv('/kaggle/input/house-prices-advanced-regression-techniques/test.csv')\n",
    "test"
   ]
  },
  {
   "cell_type": "code",
   "execution_count": 34,
   "id": "312a6ea2",
   "metadata": {
    "execution": {
     "iopub.execute_input": "2023-10-29T20:11:18.952306Z",
     "iopub.status.busy": "2023-10-29T20:11:18.951773Z",
     "iopub.status.idle": "2023-10-29T20:11:19.053109Z",
     "shell.execute_reply": "2023-10-29T20:11:19.051917Z"
    },
    "papermill": {
     "duration": 0.134939,
     "end_time": "2023-10-29T20:11:19.055589",
     "exception": false,
     "start_time": "2023-10-29T20:11:18.920650",
     "status": "completed"
    },
    "tags": []
   },
   "outputs": [
    {
     "data": {
      "text/html": [
       "<div>\n",
       "<style scoped>\n",
       "    .dataframe tbody tr th:only-of-type {\n",
       "        vertical-align: middle;\n",
       "    }\n",
       "\n",
       "    .dataframe tbody tr th {\n",
       "        vertical-align: top;\n",
       "    }\n",
       "\n",
       "    .dataframe thead th {\n",
       "        text-align: right;\n",
       "    }\n",
       "</style>\n",
       "<table border=\"1\" class=\"dataframe\">\n",
       "  <thead>\n",
       "    <tr style=\"text-align: right;\">\n",
       "      <th></th>\n",
       "      <th>MSSubClass</th>\n",
       "      <th>MSZoning</th>\n",
       "      <th>LotFrontage</th>\n",
       "      <th>LotArea</th>\n",
       "      <th>Street</th>\n",
       "      <th>Alley</th>\n",
       "      <th>LotShape</th>\n",
       "      <th>LandContour</th>\n",
       "      <th>Utilities</th>\n",
       "      <th>LotConfig</th>\n",
       "      <th>...</th>\n",
       "      <th>WoodDeckSF</th>\n",
       "      <th>OpenPorchSF</th>\n",
       "      <th>EnclosedPorch</th>\n",
       "      <th>3SsnPorch</th>\n",
       "      <th>ScreenPorch</th>\n",
       "      <th>PoolArea</th>\n",
       "      <th>PoolQC</th>\n",
       "      <th>Fence</th>\n",
       "      <th>MiscFeature</th>\n",
       "      <th>MiscVal</th>\n",
       "    </tr>\n",
       "  </thead>\n",
       "  <tbody>\n",
       "    <tr>\n",
       "      <th>0</th>\n",
       "      <td>20</td>\n",
       "      <td>RH</td>\n",
       "      <td>80.0</td>\n",
       "      <td>11622</td>\n",
       "      <td>Pave</td>\n",
       "      <td>None</td>\n",
       "      <td>Reg</td>\n",
       "      <td>Lvl</td>\n",
       "      <td>AllPub</td>\n",
       "      <td>Inside</td>\n",
       "      <td>...</td>\n",
       "      <td>140</td>\n",
       "      <td>0</td>\n",
       "      <td>0</td>\n",
       "      <td>0</td>\n",
       "      <td>120</td>\n",
       "      <td>0</td>\n",
       "      <td>None</td>\n",
       "      <td>MnPrv</td>\n",
       "      <td>None</td>\n",
       "      <td>0</td>\n",
       "    </tr>\n",
       "    <tr>\n",
       "      <th>1</th>\n",
       "      <td>20</td>\n",
       "      <td>RL</td>\n",
       "      <td>81.0</td>\n",
       "      <td>14267</td>\n",
       "      <td>Pave</td>\n",
       "      <td>None</td>\n",
       "      <td>IR1</td>\n",
       "      <td>Lvl</td>\n",
       "      <td>AllPub</td>\n",
       "      <td>Corner</td>\n",
       "      <td>...</td>\n",
       "      <td>393</td>\n",
       "      <td>36</td>\n",
       "      <td>0</td>\n",
       "      <td>0</td>\n",
       "      <td>0</td>\n",
       "      <td>0</td>\n",
       "      <td>None</td>\n",
       "      <td>None</td>\n",
       "      <td>Gar2</td>\n",
       "      <td>12500</td>\n",
       "    </tr>\n",
       "    <tr>\n",
       "      <th>2</th>\n",
       "      <td>60</td>\n",
       "      <td>RL</td>\n",
       "      <td>74.0</td>\n",
       "      <td>13830</td>\n",
       "      <td>Pave</td>\n",
       "      <td>None</td>\n",
       "      <td>IR1</td>\n",
       "      <td>Lvl</td>\n",
       "      <td>AllPub</td>\n",
       "      <td>Inside</td>\n",
       "      <td>...</td>\n",
       "      <td>212</td>\n",
       "      <td>34</td>\n",
       "      <td>0</td>\n",
       "      <td>0</td>\n",
       "      <td>0</td>\n",
       "      <td>0</td>\n",
       "      <td>None</td>\n",
       "      <td>MnPrv</td>\n",
       "      <td>None</td>\n",
       "      <td>0</td>\n",
       "    </tr>\n",
       "    <tr>\n",
       "      <th>3</th>\n",
       "      <td>60</td>\n",
       "      <td>RL</td>\n",
       "      <td>78.0</td>\n",
       "      <td>9978</td>\n",
       "      <td>Pave</td>\n",
       "      <td>None</td>\n",
       "      <td>IR1</td>\n",
       "      <td>Lvl</td>\n",
       "      <td>AllPub</td>\n",
       "      <td>Inside</td>\n",
       "      <td>...</td>\n",
       "      <td>360</td>\n",
       "      <td>36</td>\n",
       "      <td>0</td>\n",
       "      <td>0</td>\n",
       "      <td>0</td>\n",
       "      <td>0</td>\n",
       "      <td>None</td>\n",
       "      <td>None</td>\n",
       "      <td>None</td>\n",
       "      <td>0</td>\n",
       "    </tr>\n",
       "    <tr>\n",
       "      <th>4</th>\n",
       "      <td>120</td>\n",
       "      <td>RL</td>\n",
       "      <td>43.0</td>\n",
       "      <td>5005</td>\n",
       "      <td>Pave</td>\n",
       "      <td>None</td>\n",
       "      <td>IR1</td>\n",
       "      <td>HLS</td>\n",
       "      <td>AllPub</td>\n",
       "      <td>Inside</td>\n",
       "      <td>...</td>\n",
       "      <td>0</td>\n",
       "      <td>82</td>\n",
       "      <td>0</td>\n",
       "      <td>0</td>\n",
       "      <td>144</td>\n",
       "      <td>0</td>\n",
       "      <td>None</td>\n",
       "      <td>None</td>\n",
       "      <td>None</td>\n",
       "      <td>0</td>\n",
       "    </tr>\n",
       "    <tr>\n",
       "      <th>...</th>\n",
       "      <td>...</td>\n",
       "      <td>...</td>\n",
       "      <td>...</td>\n",
       "      <td>...</td>\n",
       "      <td>...</td>\n",
       "      <td>...</td>\n",
       "      <td>...</td>\n",
       "      <td>...</td>\n",
       "      <td>...</td>\n",
       "      <td>...</td>\n",
       "      <td>...</td>\n",
       "      <td>...</td>\n",
       "      <td>...</td>\n",
       "      <td>...</td>\n",
       "      <td>...</td>\n",
       "      <td>...</td>\n",
       "      <td>...</td>\n",
       "      <td>...</td>\n",
       "      <td>...</td>\n",
       "      <td>...</td>\n",
       "      <td>...</td>\n",
       "    </tr>\n",
       "    <tr>\n",
       "      <th>1454</th>\n",
       "      <td>160</td>\n",
       "      <td>RM</td>\n",
       "      <td>21.0</td>\n",
       "      <td>1936</td>\n",
       "      <td>Pave</td>\n",
       "      <td>None</td>\n",
       "      <td>Reg</td>\n",
       "      <td>Lvl</td>\n",
       "      <td>AllPub</td>\n",
       "      <td>Inside</td>\n",
       "      <td>...</td>\n",
       "      <td>0</td>\n",
       "      <td>0</td>\n",
       "      <td>0</td>\n",
       "      <td>0</td>\n",
       "      <td>0</td>\n",
       "      <td>0</td>\n",
       "      <td>None</td>\n",
       "      <td>None</td>\n",
       "      <td>None</td>\n",
       "      <td>0</td>\n",
       "    </tr>\n",
       "    <tr>\n",
       "      <th>1455</th>\n",
       "      <td>160</td>\n",
       "      <td>RM</td>\n",
       "      <td>21.0</td>\n",
       "      <td>1894</td>\n",
       "      <td>Pave</td>\n",
       "      <td>None</td>\n",
       "      <td>Reg</td>\n",
       "      <td>Lvl</td>\n",
       "      <td>AllPub</td>\n",
       "      <td>Inside</td>\n",
       "      <td>...</td>\n",
       "      <td>0</td>\n",
       "      <td>24</td>\n",
       "      <td>0</td>\n",
       "      <td>0</td>\n",
       "      <td>0</td>\n",
       "      <td>0</td>\n",
       "      <td>None</td>\n",
       "      <td>None</td>\n",
       "      <td>None</td>\n",
       "      <td>0</td>\n",
       "    </tr>\n",
       "    <tr>\n",
       "      <th>1456</th>\n",
       "      <td>20</td>\n",
       "      <td>RL</td>\n",
       "      <td>160.0</td>\n",
       "      <td>20000</td>\n",
       "      <td>Pave</td>\n",
       "      <td>None</td>\n",
       "      <td>Reg</td>\n",
       "      <td>Lvl</td>\n",
       "      <td>AllPub</td>\n",
       "      <td>Inside</td>\n",
       "      <td>...</td>\n",
       "      <td>474</td>\n",
       "      <td>0</td>\n",
       "      <td>0</td>\n",
       "      <td>0</td>\n",
       "      <td>0</td>\n",
       "      <td>0</td>\n",
       "      <td>None</td>\n",
       "      <td>None</td>\n",
       "      <td>None</td>\n",
       "      <td>0</td>\n",
       "    </tr>\n",
       "    <tr>\n",
       "      <th>1457</th>\n",
       "      <td>85</td>\n",
       "      <td>RL</td>\n",
       "      <td>62.0</td>\n",
       "      <td>10441</td>\n",
       "      <td>Pave</td>\n",
       "      <td>None</td>\n",
       "      <td>Reg</td>\n",
       "      <td>Lvl</td>\n",
       "      <td>AllPub</td>\n",
       "      <td>Inside</td>\n",
       "      <td>...</td>\n",
       "      <td>80</td>\n",
       "      <td>32</td>\n",
       "      <td>0</td>\n",
       "      <td>0</td>\n",
       "      <td>0</td>\n",
       "      <td>0</td>\n",
       "      <td>None</td>\n",
       "      <td>MnPrv</td>\n",
       "      <td>Shed</td>\n",
       "      <td>700</td>\n",
       "    </tr>\n",
       "    <tr>\n",
       "      <th>1458</th>\n",
       "      <td>60</td>\n",
       "      <td>RL</td>\n",
       "      <td>74.0</td>\n",
       "      <td>9627</td>\n",
       "      <td>Pave</td>\n",
       "      <td>None</td>\n",
       "      <td>Reg</td>\n",
       "      <td>Lvl</td>\n",
       "      <td>AllPub</td>\n",
       "      <td>Inside</td>\n",
       "      <td>...</td>\n",
       "      <td>190</td>\n",
       "      <td>48</td>\n",
       "      <td>0</td>\n",
       "      <td>0</td>\n",
       "      <td>0</td>\n",
       "      <td>0</td>\n",
       "      <td>None</td>\n",
       "      <td>None</td>\n",
       "      <td>None</td>\n",
       "      <td>0</td>\n",
       "    </tr>\n",
       "  </tbody>\n",
       "</table>\n",
       "<p>1459 rows × 75 columns</p>\n",
       "</div>"
      ],
      "text/plain": [
       "      MSSubClass MSZoning  LotFrontage  LotArea Street Alley LotShape  \\\n",
       "0             20       RH         80.0    11622   Pave  None      Reg   \n",
       "1             20       RL         81.0    14267   Pave  None      IR1   \n",
       "2             60       RL         74.0    13830   Pave  None      IR1   \n",
       "3             60       RL         78.0     9978   Pave  None      IR1   \n",
       "4            120       RL         43.0     5005   Pave  None      IR1   \n",
       "...          ...      ...          ...      ...    ...   ...      ...   \n",
       "1454         160       RM         21.0     1936   Pave  None      Reg   \n",
       "1455         160       RM         21.0     1894   Pave  None      Reg   \n",
       "1456          20       RL        160.0    20000   Pave  None      Reg   \n",
       "1457          85       RL         62.0    10441   Pave  None      Reg   \n",
       "1458          60       RL         74.0     9627   Pave  None      Reg   \n",
       "\n",
       "     LandContour Utilities LotConfig  ... WoodDeckSF OpenPorchSF  \\\n",
       "0            Lvl    AllPub    Inside  ...        140           0   \n",
       "1            Lvl    AllPub    Corner  ...        393          36   \n",
       "2            Lvl    AllPub    Inside  ...        212          34   \n",
       "3            Lvl    AllPub    Inside  ...        360          36   \n",
       "4            HLS    AllPub    Inside  ...          0          82   \n",
       "...          ...       ...       ...  ...        ...         ...   \n",
       "1454         Lvl    AllPub    Inside  ...          0           0   \n",
       "1455         Lvl    AllPub    Inside  ...          0          24   \n",
       "1456         Lvl    AllPub    Inside  ...        474           0   \n",
       "1457         Lvl    AllPub    Inside  ...         80          32   \n",
       "1458         Lvl    AllPub    Inside  ...        190          48   \n",
       "\n",
       "     EnclosedPorch 3SsnPorch ScreenPorch PoolArea  PoolQC  Fence  MiscFeature  \\\n",
       "0                0         0         120        0    None  MnPrv         None   \n",
       "1                0         0           0        0    None   None         Gar2   \n",
       "2                0         0           0        0    None  MnPrv         None   \n",
       "3                0         0           0        0    None   None         None   \n",
       "4                0         0         144        0    None   None         None   \n",
       "...            ...       ...         ...      ...     ...    ...          ...   \n",
       "1454             0         0           0        0    None   None         None   \n",
       "1455             0         0           0        0    None   None         None   \n",
       "1456             0         0           0        0    None   None         None   \n",
       "1457             0         0           0        0    None  MnPrv         Shed   \n",
       "1458             0         0           0        0    None   None         None   \n",
       "\n",
       "      MiscVal  \n",
       "0           0  \n",
       "1       12500  \n",
       "2           0  \n",
       "3           0  \n",
       "4           0  \n",
       "...       ...  \n",
       "1454        0  \n",
       "1455        0  \n",
       "1456        0  \n",
       "1457      700  \n",
       "1458        0  \n",
       "\n",
       "[1459 rows x 75 columns]"
      ]
     },
     "execution_count": 34,
     "metadata": {},
     "output_type": "execute_result"
    }
   ],
   "source": [
    "test.drop(columns=['MoSold', 'YrSold', 'SaleType', 'SaleCondition'], inplace = True)\n",
    "test.drop(columns=['Id',], inplace = True)\n",
    "test['LotFrontage'] = test['LotFrontage'].fillna(np.mean(test['LotFrontage']))\n",
    "test['MasVnrType'] = test['MasVnrType'].fillna('None')\n",
    "test['MasVnrArea'] = test['MasVnrType'].fillna(0)\n",
    "test[['BsmtQual','BsmtCond', 'BsmtExposure', 'BsmtFinType1', 'BsmtFinType2']] = test[['BsmtQual','BsmtCond', 'BsmtExposure', 'BsmtFinType1', 'BsmtFinType2']].fillna('NoBsmt')\n",
    "test['FireplaceQu'] = test['FireplaceQu'].fillna('NoFireplace')\n",
    "test['Electrical'] = test['Electrical'].fillna('SBrkr')\n",
    "test[['GarageType', 'GarageFinish','GarageQual', 'GarageCond']] = test[['GarageType', 'GarageFinish','GarageQual', 'GarageCond']].fillna('NoGarage')\n",
    "test['GarageYrBlt'] = test['GarageYrBlt'].fillna(0)\n",
    "test[['Alley', 'PoolQC', 'Fence', 'MiscFeature' ]] = test[['Alley', 'PoolQC', 'Fence', 'MiscFeature' ]].fillna('None')\n",
    "test.fillna(0)"
   ]
  },
  {
   "cell_type": "code",
   "execution_count": 35,
   "id": "207aa4d3",
   "metadata": {
    "execution": {
     "iopub.execute_input": "2023-10-29T20:11:19.117134Z",
     "iopub.status.busy": "2023-10-29T20:11:19.116642Z",
     "iopub.status.idle": "2023-10-29T20:11:19.146923Z",
     "shell.execute_reply": "2023-10-29T20:11:19.145502Z"
    },
    "papermill": {
     "duration": 0.064281,
     "end_time": "2023-10-29T20:11:19.149535",
     "exception": false,
     "start_time": "2023-10-29T20:11:19.085254",
     "status": "completed"
    },
    "tags": []
   },
   "outputs": [],
   "source": [
    "test = test.fillna(0)"
   ]
  },
  {
   "cell_type": "code",
   "execution_count": 36,
   "id": "66c7355c",
   "metadata": {
    "execution": {
     "iopub.execute_input": "2023-10-29T20:11:19.214674Z",
     "iopub.status.busy": "2023-10-29T20:11:19.214211Z",
     "iopub.status.idle": "2023-10-29T20:11:19.268309Z",
     "shell.execute_reply": "2023-10-29T20:11:19.265345Z"
    },
    "papermill": {
     "duration": 0.090543,
     "end_time": "2023-10-29T20:11:19.271179",
     "exception": false,
     "start_time": "2023-10-29T20:11:19.180636",
     "status": "completed"
    },
    "tags": []
   },
   "outputs": [
    {
     "name": "stdout",
     "output_type": "stream",
     "text": [
      "<class 'pandas.core.frame.DataFrame'>\n",
      "RangeIndex: 1459 entries, 0 to 1458\n",
      "Data columns (total 75 columns):\n",
      " #   Column         Non-Null Count  Dtype  \n",
      "---  ------         --------------  -----  \n",
      " 0   MSSubClass     1459 non-null   int64  \n",
      " 1   MSZoning       1459 non-null   object \n",
      " 2   LotFrontage    1459 non-null   float64\n",
      " 3   LotArea        1459 non-null   int64  \n",
      " 4   Street         1459 non-null   object \n",
      " 5   Alley          1459 non-null   object \n",
      " 6   LotShape       1459 non-null   object \n",
      " 7   LandContour    1459 non-null   object \n",
      " 8   Utilities      1459 non-null   object \n",
      " 9   LotConfig      1459 non-null   object \n",
      " 10  LandSlope      1459 non-null   object \n",
      " 11  Neighborhood   1459 non-null   object \n",
      " 12  Condition1     1459 non-null   object \n",
      " 13  Condition2     1459 non-null   object \n",
      " 14  BldgType       1459 non-null   object \n",
      " 15  HouseStyle     1459 non-null   object \n",
      " 16  OverallQual    1459 non-null   int64  \n",
      " 17  OverallCond    1459 non-null   int64  \n",
      " 18  YearBuilt      1459 non-null   int64  \n",
      " 19  YearRemodAdd   1459 non-null   int64  \n",
      " 20  RoofStyle      1459 non-null   object \n",
      " 21  RoofMatl       1459 non-null   object \n",
      " 22  Exterior1st    1459 non-null   object \n",
      " 23  Exterior2nd    1459 non-null   object \n",
      " 24  MasVnrType     1459 non-null   object \n",
      " 25  MasVnrArea     1459 non-null   object \n",
      " 26  ExterQual      1459 non-null   object \n",
      " 27  ExterCond      1459 non-null   object \n",
      " 28  Foundation     1459 non-null   object \n",
      " 29  BsmtQual       1459 non-null   object \n",
      " 30  BsmtCond       1459 non-null   object \n",
      " 31  BsmtExposure   1459 non-null   object \n",
      " 32  BsmtFinType1   1459 non-null   object \n",
      " 33  BsmtFinSF1     1459 non-null   float64\n",
      " 34  BsmtFinType2   1459 non-null   object \n",
      " 35  BsmtFinSF2     1459 non-null   float64\n",
      " 36  BsmtUnfSF      1459 non-null   float64\n",
      " 37  TotalBsmtSF    1459 non-null   float64\n",
      " 38  Heating        1459 non-null   object \n",
      " 39  HeatingQC      1459 non-null   object \n",
      " 40  CentralAir     1459 non-null   object \n",
      " 41  Electrical     1459 non-null   object \n",
      " 42  1stFlrSF       1459 non-null   int64  \n",
      " 43  2ndFlrSF       1459 non-null   int64  \n",
      " 44  LowQualFinSF   1459 non-null   int64  \n",
      " 45  GrLivArea      1459 non-null   int64  \n",
      " 46  BsmtFullBath   1459 non-null   float64\n",
      " 47  BsmtHalfBath   1459 non-null   float64\n",
      " 48  FullBath       1459 non-null   int64  \n",
      " 49  HalfBath       1459 non-null   int64  \n",
      " 50  BedroomAbvGr   1459 non-null   int64  \n",
      " 51  KitchenAbvGr   1459 non-null   int64  \n",
      " 52  KitchenQual    1459 non-null   object \n",
      " 53  TotRmsAbvGrd   1459 non-null   int64  \n",
      " 54  Functional     1459 non-null   object \n",
      " 55  Fireplaces     1459 non-null   int64  \n",
      " 56  FireplaceQu    1459 non-null   object \n",
      " 57  GarageType     1459 non-null   object \n",
      " 58  GarageYrBlt    1459 non-null   float64\n",
      " 59  GarageFinish   1459 non-null   object \n",
      " 60  GarageCars     1459 non-null   float64\n",
      " 61  GarageArea     1459 non-null   float64\n",
      " 62  GarageQual     1459 non-null   object \n",
      " 63  GarageCond     1459 non-null   object \n",
      " 64  PavedDrive     1459 non-null   object \n",
      " 65  WoodDeckSF     1459 non-null   int64  \n",
      " 66  OpenPorchSF    1459 non-null   int64  \n",
      " 67  EnclosedPorch  1459 non-null   int64  \n",
      " 68  3SsnPorch      1459 non-null   int64  \n",
      " 69  ScreenPorch    1459 non-null   int64  \n",
      " 70  PoolArea       1459 non-null   int64  \n",
      " 71  PoolQC         1459 non-null   object \n",
      " 72  Fence          1459 non-null   object \n",
      " 73  MiscFeature    1459 non-null   object \n",
      " 74  MiscVal        1459 non-null   int64  \n",
      "dtypes: float64(10), int64(23), object(42)\n",
      "memory usage: 855.0+ KB\n"
     ]
    }
   ],
   "source": [
    "test.info()"
   ]
  },
  {
   "cell_type": "code",
   "execution_count": 37,
   "id": "980d200d",
   "metadata": {
    "execution": {
     "iopub.execute_input": "2023-10-29T20:11:19.333361Z",
     "iopub.status.busy": "2023-10-29T20:11:19.332862Z",
     "iopub.status.idle": "2023-10-29T20:11:19.351591Z",
     "shell.execute_reply": "2023-10-29T20:11:19.350531Z"
    },
    "papermill": {
     "duration": 0.053001,
     "end_time": "2023-10-29T20:11:19.354172",
     "exception": false,
     "start_time": "2023-10-29T20:11:19.301171",
     "status": "completed"
    },
    "tags": []
   },
   "outputs": [
    {
     "data": {
      "text/html": [
       "<div>\n",
       "<style scoped>\n",
       "    .dataframe tbody tr th:only-of-type {\n",
       "        vertical-align: middle;\n",
       "    }\n",
       "\n",
       "    .dataframe tbody tr th {\n",
       "        vertical-align: top;\n",
       "    }\n",
       "\n",
       "    .dataframe thead th {\n",
       "        text-align: right;\n",
       "    }\n",
       "</style>\n",
       "<table border=\"1\" class=\"dataframe\">\n",
       "  <thead>\n",
       "    <tr style=\"text-align: right;\">\n",
       "      <th></th>\n",
       "      <th>Id</th>\n",
       "      <th>SalePrice</th>\n",
       "    </tr>\n",
       "  </thead>\n",
       "  <tbody>\n",
       "    <tr>\n",
       "      <th>0</th>\n",
       "      <td>1461</td>\n",
       "      <td>169277.052498</td>\n",
       "    </tr>\n",
       "    <tr>\n",
       "      <th>1</th>\n",
       "      <td>1462</td>\n",
       "      <td>187758.393989</td>\n",
       "    </tr>\n",
       "    <tr>\n",
       "      <th>2</th>\n",
       "      <td>1463</td>\n",
       "      <td>183583.683570</td>\n",
       "    </tr>\n",
       "    <tr>\n",
       "      <th>3</th>\n",
       "      <td>1464</td>\n",
       "      <td>179317.477511</td>\n",
       "    </tr>\n",
       "    <tr>\n",
       "      <th>4</th>\n",
       "      <td>1465</td>\n",
       "      <td>150730.079977</td>\n",
       "    </tr>\n",
       "  </tbody>\n",
       "</table>\n",
       "</div>"
      ],
      "text/plain": [
       "     Id      SalePrice\n",
       "0  1461  169277.052498\n",
       "1  1462  187758.393989\n",
       "2  1463  183583.683570\n",
       "3  1464  179317.477511\n",
       "4  1465  150730.079977"
      ]
     },
     "execution_count": 37,
     "metadata": {},
     "output_type": "execute_result"
    }
   ],
   "source": [
    "submission = pd.read_csv('/kaggle/input/house-prices-advanced-regression-techniques/sample_submission.csv')\n",
    "submission.head()"
   ]
  },
  {
   "cell_type": "code",
   "execution_count": 38,
   "id": "d7565700",
   "metadata": {
    "execution": {
     "iopub.execute_input": "2023-10-29T20:11:19.419274Z",
     "iopub.status.busy": "2023-10-29T20:11:19.418847Z",
     "iopub.status.idle": "2023-10-29T20:11:19.856504Z",
     "shell.execute_reply": "2023-10-29T20:11:19.855257Z"
    },
    "papermill": {
     "duration": 0.474022,
     "end_time": "2023-10-29T20:11:19.859629",
     "exception": false,
     "start_time": "2023-10-29T20:11:19.385607",
     "status": "completed"
    },
    "tags": []
   },
   "outputs": [],
   "source": [
    "predict_test = rs.best_estimator_.predict(test)"
   ]
  },
  {
   "cell_type": "code",
   "execution_count": 39,
   "id": "ab324c0b",
   "metadata": {
    "execution": {
     "iopub.execute_input": "2023-10-29T20:11:19.925945Z",
     "iopub.status.busy": "2023-10-29T20:11:19.925521Z",
     "iopub.status.idle": "2023-10-29T20:11:19.937129Z",
     "shell.execute_reply": "2023-10-29T20:11:19.935891Z"
    },
    "papermill": {
     "duration": 0.047254,
     "end_time": "2023-10-29T20:11:19.939287",
     "exception": false,
     "start_time": "2023-10-29T20:11:19.892033",
     "status": "completed"
    },
    "tags": []
   },
   "outputs": [
    {
     "data": {
      "text/html": [
       "<div>\n",
       "<style scoped>\n",
       "    .dataframe tbody tr th:only-of-type {\n",
       "        vertical-align: middle;\n",
       "    }\n",
       "\n",
       "    .dataframe tbody tr th {\n",
       "        vertical-align: top;\n",
       "    }\n",
       "\n",
       "    .dataframe thead th {\n",
       "        text-align: right;\n",
       "    }\n",
       "</style>\n",
       "<table border=\"1\" class=\"dataframe\">\n",
       "  <thead>\n",
       "    <tr style=\"text-align: right;\">\n",
       "      <th></th>\n",
       "      <th>Id</th>\n",
       "      <th>SalePrice</th>\n",
       "    </tr>\n",
       "  </thead>\n",
       "  <tbody>\n",
       "    <tr>\n",
       "      <th>0</th>\n",
       "      <td>1461</td>\n",
       "      <td>124319.320817</td>\n",
       "    </tr>\n",
       "    <tr>\n",
       "      <th>1</th>\n",
       "      <td>1462</td>\n",
       "      <td>154011.305467</td>\n",
       "    </tr>\n",
       "    <tr>\n",
       "      <th>2</th>\n",
       "      <td>1463</td>\n",
       "      <td>185422.931872</td>\n",
       "    </tr>\n",
       "    <tr>\n",
       "      <th>3</th>\n",
       "      <td>1464</td>\n",
       "      <td>191283.640026</td>\n",
       "    </tr>\n",
       "    <tr>\n",
       "      <th>4</th>\n",
       "      <td>1465</td>\n",
       "      <td>192331.269404</td>\n",
       "    </tr>\n",
       "  </tbody>\n",
       "</table>\n",
       "</div>"
      ],
      "text/plain": [
       "     Id      SalePrice\n",
       "0  1461  124319.320817\n",
       "1  1462  154011.305467\n",
       "2  1463  185422.931872\n",
       "3  1464  191283.640026\n",
       "4  1465  192331.269404"
      ]
     },
     "execution_count": 39,
     "metadata": {},
     "output_type": "execute_result"
    }
   ],
   "source": [
    "submission['SalePrice'] = predict_test\n",
    "submission.head()"
   ]
  },
  {
   "cell_type": "code",
   "execution_count": 40,
   "id": "f5f552d8",
   "metadata": {
    "execution": {
     "iopub.execute_input": "2023-10-29T20:11:20.004222Z",
     "iopub.status.busy": "2023-10-29T20:11:20.003760Z",
     "iopub.status.idle": "2023-10-29T20:11:20.020868Z",
     "shell.execute_reply": "2023-10-29T20:11:20.019536Z"
    },
    "papermill": {
     "duration": 0.053435,
     "end_time": "2023-10-29T20:11:20.024353",
     "exception": false,
     "start_time": "2023-10-29T20:11:19.970918",
     "status": "completed"
    },
    "tags": []
   },
   "outputs": [],
   "source": [
    "submission.to_csv('submission_lr.csv', index=None)"
   ]
  },
  {
   "cell_type": "markdown",
   "id": "9dde43cb",
   "metadata": {
    "papermill": {
     "duration": 0.03029,
     "end_time": "2023-10-29T20:11:20.086653",
     "exception": false,
     "start_time": "2023-10-29T20:11:20.056363",
     "status": "completed"
    },
    "tags": []
   },
   "source": [
    "<font size=5>**Boosting with CatBoost**</font>"
   ]
  },
  {
   "cell_type": "code",
   "execution_count": 41,
   "id": "f4674b2e",
   "metadata": {
    "execution": {
     "iopub.execute_input": "2023-10-29T20:11:20.150278Z",
     "iopub.status.busy": "2023-10-29T20:11:20.149793Z",
     "iopub.status.idle": "2023-10-29T20:11:35.982021Z",
     "shell.execute_reply": "2023-10-29T20:11:35.980678Z"
    },
    "papermill": {
     "duration": 15.867748,
     "end_time": "2023-10-29T20:11:35.984892",
     "exception": false,
     "start_time": "2023-10-29T20:11:20.117144",
     "status": "completed"
    },
    "tags": []
   },
   "outputs": [
    {
     "name": "stdout",
     "output_type": "stream",
     "text": [
      "Requirement already satisfied: catboost in /opt/conda/lib/python3.10/site-packages (1.2)\r\n",
      "Requirement already satisfied: graphviz in /opt/conda/lib/python3.10/site-packages (from catboost) (0.20.1)\r\n",
      "Requirement already satisfied: matplotlib in /opt/conda/lib/python3.10/site-packages (from catboost) (3.7.1)\r\n",
      "Requirement already satisfied: numpy>=1.16.0 in /opt/conda/lib/python3.10/site-packages (from catboost) (1.23.5)\r\n",
      "Requirement already satisfied: pandas>=0.24 in /opt/conda/lib/python3.10/site-packages (from catboost) (1.5.3)\r\n",
      "Requirement already satisfied: scipy in /opt/conda/lib/python3.10/site-packages (from catboost) (1.11.1)\r\n",
      "Requirement already satisfied: plotly in /opt/conda/lib/python3.10/site-packages (from catboost) (5.15.0)\r\n",
      "Requirement already satisfied: six in /opt/conda/lib/python3.10/site-packages (from catboost) (1.16.0)\r\n",
      "Requirement already satisfied: python-dateutil>=2.8.1 in /opt/conda/lib/python3.10/site-packages (from pandas>=0.24->catboost) (2.8.2)\r\n",
      "Requirement already satisfied: pytz>=2020.1 in /opt/conda/lib/python3.10/site-packages (from pandas>=0.24->catboost) (2023.3)\r\n",
      "Requirement already satisfied: contourpy>=1.0.1 in /opt/conda/lib/python3.10/site-packages (from matplotlib->catboost) (1.1.0)\r\n",
      "Requirement already satisfied: cycler>=0.10 in /opt/conda/lib/python3.10/site-packages (from matplotlib->catboost) (0.11.0)\r\n",
      "Requirement already satisfied: fonttools>=4.22.0 in /opt/conda/lib/python3.10/site-packages (from matplotlib->catboost) (4.40.0)\r\n",
      "Requirement already satisfied: kiwisolver>=1.0.1 in /opt/conda/lib/python3.10/site-packages (from matplotlib->catboost) (1.4.4)\r\n",
      "Requirement already satisfied: packaging>=20.0 in /opt/conda/lib/python3.10/site-packages (from matplotlib->catboost) (21.3)\r\n",
      "Requirement already satisfied: pillow>=6.2.0 in /opt/conda/lib/python3.10/site-packages (from matplotlib->catboost) (9.5.0)\r\n",
      "Requirement already satisfied: pyparsing>=2.3.1 in /opt/conda/lib/python3.10/site-packages (from matplotlib->catboost) (3.0.9)\r\n",
      "Requirement already satisfied: tenacity>=6.2.0 in /opt/conda/lib/python3.10/site-packages (from plotly->catboost) (8.2.2)\r\n"
     ]
    }
   ],
   "source": [
    "!pip install catboost"
   ]
  },
  {
   "cell_type": "code",
   "execution_count": 42,
   "id": "a6c29158",
   "metadata": {
    "execution": {
     "iopub.execute_input": "2023-10-29T20:11:36.050984Z",
     "iopub.status.busy": "2023-10-29T20:11:36.050456Z",
     "iopub.status.idle": "2023-10-29T20:11:36.469891Z",
     "shell.execute_reply": "2023-10-29T20:11:36.468499Z"
    },
    "papermill": {
     "duration": 0.456208,
     "end_time": "2023-10-29T20:11:36.472813",
     "exception": false,
     "start_time": "2023-10-29T20:11:36.016605",
     "status": "completed"
    },
    "tags": []
   },
   "outputs": [],
   "source": [
    "from catboost import CatBoostRegressor, Pool, cv"
   ]
  },
  {
   "cell_type": "code",
   "execution_count": 43,
   "id": "efd3ca99",
   "metadata": {
    "execution": {
     "iopub.execute_input": "2023-10-29T20:11:36.538953Z",
     "iopub.status.busy": "2023-10-29T20:11:36.538435Z",
     "iopub.status.idle": "2023-10-29T20:11:36.607165Z",
     "shell.execute_reply": "2023-10-29T20:11:36.605949Z"
    },
    "papermill": {
     "duration": 0.105528,
     "end_time": "2023-10-29T20:11:36.609775",
     "exception": false,
     "start_time": "2023-10-29T20:11:36.504247",
     "status": "completed"
    },
    "tags": []
   },
   "outputs": [],
   "source": [
    "train_dataset_for_boosting = Pool(data=X_train,\n",
    "                                  label=y_train,\n",
    "                                  cat_features=cat_cols)\n",
    "\n",
    "test_dataset_for_boosting = Pool(data=X_test,\n",
    "                                  label=y_test,\n",
    "                                  cat_features=cat_cols)"
   ]
  },
  {
   "cell_type": "code",
   "execution_count": 44,
   "id": "6f1f7832",
   "metadata": {
    "execution": {
     "iopub.execute_input": "2023-10-29T20:11:36.674734Z",
     "iopub.status.busy": "2023-10-29T20:11:36.673821Z",
     "iopub.status.idle": "2023-10-29T20:11:36.679657Z",
     "shell.execute_reply": "2023-10-29T20:11:36.678707Z"
    },
    "papermill": {
     "duration": 0.040978,
     "end_time": "2023-10-29T20:11:36.682087",
     "exception": false,
     "start_time": "2023-10-29T20:11:36.641109",
     "status": "completed"
    },
    "tags": []
   },
   "outputs": [],
   "source": [
    "boosting_params ={\n",
    "    \"iterations\": [100, 200, 300, 400 , 500 , 1000],   \n",
    "    'depth' : np.arange(1,11),\n",
    "    'learning_rate': [0.01, 0.03, 0.05, 0.001,0.005]\n",
    "}"
   ]
  },
  {
   "cell_type": "code",
   "execution_count": 45,
   "id": "9aef746f",
   "metadata": {
    "execution": {
     "iopub.execute_input": "2023-10-29T20:11:36.747405Z",
     "iopub.status.busy": "2023-10-29T20:11:36.746613Z",
     "iopub.status.idle": "2023-10-29T20:11:36.753628Z",
     "shell.execute_reply": "2023-10-29T20:11:36.752317Z"
    },
    "papermill": {
     "duration": 0.042368,
     "end_time": "2023-10-29T20:11:36.756287",
     "exception": false,
     "start_time": "2023-10-29T20:11:36.713919",
     "status": "completed"
    },
    "tags": []
   },
   "outputs": [],
   "source": [
    "model = CatBoostRegressor(eval_metric='RMSE',\n",
    "                         logging_level='Silent',)"
   ]
  },
  {
   "cell_type": "code",
   "execution_count": 46,
   "id": "151d07ef",
   "metadata": {
    "execution": {
     "iopub.execute_input": "2023-10-29T20:11:36.820118Z",
     "iopub.status.busy": "2023-10-29T20:11:36.819467Z",
     "iopub.status.idle": "2023-10-29T20:13:59.692897Z",
     "shell.execute_reply": "2023-10-29T20:13:59.691667Z"
    },
    "papermill": {
     "duration": 142.909216,
     "end_time": "2023-10-29T20:13:59.695838",
     "exception": false,
     "start_time": "2023-10-29T20:11:36.786622",
     "status": "completed"
    },
    "tags": []
   },
   "outputs": [
    {
     "data": {
      "application/vnd.jupyter.widget-view+json": {
       "model_id": "31928b8538924547ad9850cc9889cacd",
       "version_major": 2,
       "version_minor": 0
      },
      "text/plain": [
       "MetricVisualizer(layout=Layout(align_self='stretch', height='500px'))"
      ]
     },
     "metadata": {},
     "output_type": "display_data"
    }
   ],
   "source": [
    "search = model.randomized_search(boosting_params, train_dataset_for_boosting, cv=5, plot=True, verbose=False)"
   ]
  },
  {
   "cell_type": "code",
   "execution_count": 47,
   "id": "46f991f0",
   "metadata": {
    "execution": {
     "iopub.execute_input": "2023-10-29T20:13:59.761387Z",
     "iopub.status.busy": "2023-10-29T20:13:59.760157Z",
     "iopub.status.idle": "2023-10-29T20:13:59.769448Z",
     "shell.execute_reply": "2023-10-29T20:13:59.767837Z"
    },
    "papermill": {
     "duration": 0.044615,
     "end_time": "2023-10-29T20:13:59.772430",
     "exception": false,
     "start_time": "2023-10-29T20:13:59.727815",
     "status": "completed"
    },
    "tags": []
   },
   "outputs": [
    {
     "data": {
      "text/plain": [
       "{'learn': {'RMSE': 17562.34596495469}}"
      ]
     },
     "execution_count": 47,
     "metadata": {},
     "output_type": "execute_result"
    }
   ],
   "source": [
    "model.best_score_"
   ]
  },
  {
   "cell_type": "code",
   "execution_count": 48,
   "id": "ec09a38b",
   "metadata": {
    "execution": {
     "iopub.execute_input": "2023-10-29T20:13:59.839768Z",
     "iopub.status.busy": "2023-10-29T20:13:59.839288Z",
     "iopub.status.idle": "2023-10-29T20:13:59.864809Z",
     "shell.execute_reply": "2023-10-29T20:13:59.863576Z"
    },
    "papermill": {
     "duration": 0.062387,
     "end_time": "2023-10-29T20:13:59.867680",
     "exception": false,
     "start_time": "2023-10-29T20:13:59.805293",
     "status": "completed"
    },
    "tags": []
   },
   "outputs": [],
   "source": [
    "test_dataset = Pool(data=test,\n",
    "                    cat_features=cat_cols)"
   ]
  },
  {
   "cell_type": "code",
   "execution_count": 49,
   "id": "ecb0d672",
   "metadata": {
    "execution": {
     "iopub.execute_input": "2023-10-29T20:13:59.933396Z",
     "iopub.status.busy": "2023-10-29T20:13:59.932889Z",
     "iopub.status.idle": "2023-10-29T20:13:59.942376Z",
     "shell.execute_reply": "2023-10-29T20:13:59.941094Z"
    },
    "papermill": {
     "duration": 0.045616,
     "end_time": "2023-10-29T20:13:59.945149",
     "exception": false,
     "start_time": "2023-10-29T20:13:59.899533",
     "status": "completed"
    },
    "tags": []
   },
   "outputs": [],
   "source": [
    "predict_test = model.predict(test_dataset)"
   ]
  },
  {
   "cell_type": "code",
   "execution_count": 50,
   "id": "95141f02",
   "metadata": {
    "execution": {
     "iopub.execute_input": "2023-10-29T20:14:00.010821Z",
     "iopub.status.busy": "2023-10-29T20:14:00.010304Z",
     "iopub.status.idle": "2023-10-29T20:14:00.018616Z",
     "shell.execute_reply": "2023-10-29T20:14:00.017389Z"
    },
    "papermill": {
     "duration": 0.044446,
     "end_time": "2023-10-29T20:14:00.021405",
     "exception": false,
     "start_time": "2023-10-29T20:13:59.976959",
     "status": "completed"
    },
    "tags": []
   },
   "outputs": [
    {
     "data": {
      "text/plain": [
       "array([124404.18563356, 157493.45574929, 183348.95128107, ...,\n",
       "       179924.92993949, 120924.75206344, 233993.97428582])"
      ]
     },
     "execution_count": 50,
     "metadata": {},
     "output_type": "execute_result"
    }
   ],
   "source": [
    "predict_test"
   ]
  },
  {
   "cell_type": "code",
   "execution_count": 51,
   "id": "3aeb2cb6",
   "metadata": {
    "execution": {
     "iopub.execute_input": "2023-10-29T20:14:00.087862Z",
     "iopub.status.busy": "2023-10-29T20:14:00.087361Z",
     "iopub.status.idle": "2023-10-29T20:14:00.100787Z",
     "shell.execute_reply": "2023-10-29T20:14:00.099224Z"
    },
    "papermill": {
     "duration": 0.050054,
     "end_time": "2023-10-29T20:14:00.103756",
     "exception": false,
     "start_time": "2023-10-29T20:14:00.053702",
     "status": "completed"
    },
    "tags": []
   },
   "outputs": [],
   "source": [
    "boosting_submission = pd.read_csv('/kaggle/input/house-prices-advanced-regression-techniques/sample_submission.csv')"
   ]
  },
  {
   "cell_type": "code",
   "execution_count": 52,
   "id": "bffe8dce",
   "metadata": {
    "execution": {
     "iopub.execute_input": "2023-10-29T20:14:00.170541Z",
     "iopub.status.busy": "2023-10-29T20:14:00.170037Z",
     "iopub.status.idle": "2023-10-29T20:14:00.184754Z",
     "shell.execute_reply": "2023-10-29T20:14:00.183364Z"
    },
    "papermill": {
     "duration": 0.051159,
     "end_time": "2023-10-29T20:14:00.187535",
     "exception": false,
     "start_time": "2023-10-29T20:14:00.136376",
     "status": "completed"
    },
    "tags": []
   },
   "outputs": [
    {
     "data": {
      "text/html": [
       "<div>\n",
       "<style scoped>\n",
       "    .dataframe tbody tr th:only-of-type {\n",
       "        vertical-align: middle;\n",
       "    }\n",
       "\n",
       "    .dataframe tbody tr th {\n",
       "        vertical-align: top;\n",
       "    }\n",
       "\n",
       "    .dataframe thead th {\n",
       "        text-align: right;\n",
       "    }\n",
       "</style>\n",
       "<table border=\"1\" class=\"dataframe\">\n",
       "  <thead>\n",
       "    <tr style=\"text-align: right;\">\n",
       "      <th></th>\n",
       "      <th>Id</th>\n",
       "      <th>SalePrice</th>\n",
       "    </tr>\n",
       "  </thead>\n",
       "  <tbody>\n",
       "    <tr>\n",
       "      <th>0</th>\n",
       "      <td>1461</td>\n",
       "      <td>124404.185634</td>\n",
       "    </tr>\n",
       "    <tr>\n",
       "      <th>1</th>\n",
       "      <td>1462</td>\n",
       "      <td>157493.455749</td>\n",
       "    </tr>\n",
       "    <tr>\n",
       "      <th>2</th>\n",
       "      <td>1463</td>\n",
       "      <td>183348.951281</td>\n",
       "    </tr>\n",
       "    <tr>\n",
       "      <th>3</th>\n",
       "      <td>1464</td>\n",
       "      <td>187938.980376</td>\n",
       "    </tr>\n",
       "    <tr>\n",
       "      <th>4</th>\n",
       "      <td>1465</td>\n",
       "      <td>197516.910356</td>\n",
       "    </tr>\n",
       "  </tbody>\n",
       "</table>\n",
       "</div>"
      ],
      "text/plain": [
       "     Id      SalePrice\n",
       "0  1461  124404.185634\n",
       "1  1462  157493.455749\n",
       "2  1463  183348.951281\n",
       "3  1464  187938.980376\n",
       "4  1465  197516.910356"
      ]
     },
     "execution_count": 52,
     "metadata": {},
     "output_type": "execute_result"
    }
   ],
   "source": [
    "boosting_submission['SalePrice'] = predict_test\n",
    "boosting_submission.head()"
   ]
  },
  {
   "cell_type": "code",
   "execution_count": 53,
   "id": "fe44f460",
   "metadata": {
    "execution": {
     "iopub.execute_input": "2023-10-29T20:14:00.257519Z",
     "iopub.status.busy": "2023-10-29T20:14:00.257009Z",
     "iopub.status.idle": "2023-10-29T20:14:00.272623Z",
     "shell.execute_reply": "2023-10-29T20:14:00.271134Z"
    },
    "papermill": {
     "duration": 0.054338,
     "end_time": "2023-10-29T20:14:00.275237",
     "exception": false,
     "start_time": "2023-10-29T20:14:00.220899",
     "status": "completed"
    },
    "tags": []
   },
   "outputs": [],
   "source": [
    "boosting_submission.to_csv('boosting_submission.csv', index=None)"
   ]
  },
  {
   "cell_type": "code",
   "execution_count": 54,
   "id": "5c04f127",
   "metadata": {
    "execution": {
     "iopub.execute_input": "2023-10-29T20:14:00.343631Z",
     "iopub.status.busy": "2023-10-29T20:14:00.343130Z",
     "iopub.status.idle": "2023-10-29T20:14:00.352993Z",
     "shell.execute_reply": "2023-10-29T20:14:00.351731Z"
    },
    "papermill": {
     "duration": 0.047157,
     "end_time": "2023-10-29T20:14:00.355473",
     "exception": false,
     "start_time": "2023-10-29T20:14:00.308316",
     "status": "completed"
    },
    "tags": []
   },
   "outputs": [],
   "source": [
    "boosting_submission_2 = pd.read_csv('/kaggle/input/house-prices-advanced-regression-techniques/sample_submission.csv')"
   ]
  },
  {
   "cell_type": "code",
   "execution_count": 55,
   "id": "2149c086",
   "metadata": {
    "execution": {
     "iopub.execute_input": "2023-10-29T20:14:00.422493Z",
     "iopub.status.busy": "2023-10-29T20:14:00.422029Z",
     "iopub.status.idle": "2023-10-29T20:14:00.428829Z",
     "shell.execute_reply": "2023-10-29T20:14:00.427310Z"
    },
    "papermill": {
     "duration": 0.043357,
     "end_time": "2023-10-29T20:14:00.431466",
     "exception": false,
     "start_time": "2023-10-29T20:14:00.388109",
     "status": "completed"
    },
    "tags": []
   },
   "outputs": [],
   "source": [
    "model_2 = CatBoostRegressor(eval_metric='RMSE',\n",
    "                         logging_level='Silent',)"
   ]
  },
  {
   "cell_type": "code",
   "execution_count": 56,
   "id": "f045177c",
   "metadata": {
    "execution": {
     "iopub.execute_input": "2023-10-29T20:14:00.499412Z",
     "iopub.status.busy": "2023-10-29T20:14:00.498878Z",
     "iopub.status.idle": "2023-10-29T20:14:24.063080Z",
     "shell.execute_reply": "2023-10-29T20:14:24.061294Z"
    },
    "papermill": {
     "duration": 23.602785,
     "end_time": "2023-10-29T20:14:24.066736",
     "exception": false,
     "start_time": "2023-10-29T20:14:00.463951",
     "status": "completed"
    },
    "tags": []
   },
   "outputs": [
    {
     "data": {
      "text/plain": [
       "<catboost.core.CatBoostRegressor at 0x781c291df610>"
      ]
     },
     "execution_count": 56,
     "metadata": {},
     "output_type": "execute_result"
    }
   ],
   "source": [
    "model_2.fit(train_dataset_for_boosting)"
   ]
  },
  {
   "cell_type": "code",
   "execution_count": 57,
   "id": "e4e88646",
   "metadata": {
    "execution": {
     "iopub.execute_input": "2023-10-29T20:14:24.133919Z",
     "iopub.status.busy": "2023-10-29T20:14:24.133412Z",
     "iopub.status.idle": "2023-10-29T20:14:24.142321Z",
     "shell.execute_reply": "2023-10-29T20:14:24.140800Z"
    },
    "papermill": {
     "duration": 0.045451,
     "end_time": "2023-10-29T20:14:24.144950",
     "exception": false,
     "start_time": "2023-10-29T20:14:24.099499",
     "status": "completed"
    },
    "tags": []
   },
   "outputs": [],
   "source": [
    "predict_test_2 = model.predict(test_dataset)"
   ]
  },
  {
   "cell_type": "code",
   "execution_count": 58,
   "id": "0b0efcf7",
   "metadata": {
    "execution": {
     "iopub.execute_input": "2023-10-29T20:14:24.212091Z",
     "iopub.status.busy": "2023-10-29T20:14:24.211607Z",
     "iopub.status.idle": "2023-10-29T20:14:24.225209Z",
     "shell.execute_reply": "2023-10-29T20:14:24.223720Z"
    },
    "papermill": {
     "duration": 0.050214,
     "end_time": "2023-10-29T20:14:24.228367",
     "exception": false,
     "start_time": "2023-10-29T20:14:24.178153",
     "status": "completed"
    },
    "tags": []
   },
   "outputs": [
    {
     "data": {
      "text/html": [
       "<div>\n",
       "<style scoped>\n",
       "    .dataframe tbody tr th:only-of-type {\n",
       "        vertical-align: middle;\n",
       "    }\n",
       "\n",
       "    .dataframe tbody tr th {\n",
       "        vertical-align: top;\n",
       "    }\n",
       "\n",
       "    .dataframe thead th {\n",
       "        text-align: right;\n",
       "    }\n",
       "</style>\n",
       "<table border=\"1\" class=\"dataframe\">\n",
       "  <thead>\n",
       "    <tr style=\"text-align: right;\">\n",
       "      <th></th>\n",
       "      <th>Id</th>\n",
       "      <th>SalePrice</th>\n",
       "    </tr>\n",
       "  </thead>\n",
       "  <tbody>\n",
       "    <tr>\n",
       "      <th>0</th>\n",
       "      <td>1461</td>\n",
       "      <td>124404.185634</td>\n",
       "    </tr>\n",
       "    <tr>\n",
       "      <th>1</th>\n",
       "      <td>1462</td>\n",
       "      <td>157493.455749</td>\n",
       "    </tr>\n",
       "    <tr>\n",
       "      <th>2</th>\n",
       "      <td>1463</td>\n",
       "      <td>183348.951281</td>\n",
       "    </tr>\n",
       "    <tr>\n",
       "      <th>3</th>\n",
       "      <td>1464</td>\n",
       "      <td>187938.980376</td>\n",
       "    </tr>\n",
       "    <tr>\n",
       "      <th>4</th>\n",
       "      <td>1465</td>\n",
       "      <td>197516.910356</td>\n",
       "    </tr>\n",
       "  </tbody>\n",
       "</table>\n",
       "</div>"
      ],
      "text/plain": [
       "     Id      SalePrice\n",
       "0  1461  124404.185634\n",
       "1  1462  157493.455749\n",
       "2  1463  183348.951281\n",
       "3  1464  187938.980376\n",
       "4  1465  197516.910356"
      ]
     },
     "execution_count": 58,
     "metadata": {},
     "output_type": "execute_result"
    }
   ],
   "source": [
    "boosting_submission_2['SalePrice'] = predict_test_2\n",
    "boosting_submission_2.head()"
   ]
  },
  {
   "cell_type": "code",
   "execution_count": 59,
   "id": "c6e16be0",
   "metadata": {
    "execution": {
     "iopub.execute_input": "2023-10-29T20:14:24.294956Z",
     "iopub.status.busy": "2023-10-29T20:14:24.294558Z",
     "iopub.status.idle": "2023-10-29T20:14:24.309078Z",
     "shell.execute_reply": "2023-10-29T20:14:24.307804Z"
    },
    "papermill": {
     "duration": 0.051305,
     "end_time": "2023-10-29T20:14:24.311689",
     "exception": false,
     "start_time": "2023-10-29T20:14:24.260384",
     "status": "completed"
    },
    "tags": []
   },
   "outputs": [],
   "source": [
    "boosting_submission_2.to_csv('boosting_submission_2.csv', index=None)"
   ]
  }
 ],
 "metadata": {
  "kernelspec": {
   "display_name": "Python 3",
   "language": "python",
   "name": "python3"
  },
  "language_info": {
   "codemirror_mode": {
    "name": "ipython",
    "version": 3
   },
   "file_extension": ".py",
   "mimetype": "text/x-python",
   "name": "python",
   "nbconvert_exporter": "python",
   "pygments_lexer": "ipython3",
   "version": "3.10.12"
  },
  "papermill": {
   "default_parameters": {},
   "duration": 251.978424,
   "end_time": "2023-10-29T20:14:26.970414",
   "environment_variables": {},
   "exception": null,
   "input_path": "__notebook__.ipynb",
   "output_path": "__notebook__.ipynb",
   "parameters": {},
   "start_time": "2023-10-29T20:10:14.991990",
   "version": "2.4.0"
  },
  "widgets": {
   "application/vnd.jupyter.widget-state+json": {
    "state": {
     "099b1e18893843a78da3abfaccacf7c6": {
      "model_module": "@jupyter-widgets/base",
      "model_module_version": "1.2.0",
      "model_name": "LayoutModel",
      "state": {
       "_model_module": "@jupyter-widgets/base",
       "_model_module_version": "1.2.0",
       "_model_name": "LayoutModel",
       "_view_count": null,
       "_view_module": "@jupyter-widgets/base",
       "_view_module_version": "1.2.0",
       "_view_name": "LayoutView",
       "align_content": null,
       "align_items": null,
       "align_self": "stretch",
       "border": null,
       "bottom": null,
       "display": null,
       "flex": null,
       "flex_flow": null,
       "grid_area": null,
       "grid_auto_columns": null,
       "grid_auto_flow": null,
       "grid_auto_rows": null,
       "grid_column": null,
       "grid_gap": null,
       "grid_row": null,
       "grid_template_areas": null,
       "grid_template_columns": null,
       "grid_template_rows": null,
       "height": "500px",
       "justify_content": null,
       "justify_items": null,
       "left": null,
       "margin": null,
       "max_height": null,
       "max_width": null,
       "min_height": null,
       "min_width": null,
       "object_fit": null,
       "object_position": null,
       "order": null,
       "overflow": null,
       "overflow_x": null,
       "overflow_y": null,
       "padding": null,
       "right": null,
       "top": null,
       "visibility": null,
       "width": null
      }
     },
     "31928b8538924547ad9850cc9889cacd": {
      "model_module": "catboost-widget",
      "model_module_version": "^1.0.0",
      "model_name": "CatboostWidgetModel",
      "state": {
       "_dom_classes": [],
       "_model_module": "catboost-widget",
       "_model_module_version": "^1.0.0",
       "_model_name": "CatboostWidgetModel",
       "_view_count": null,
       "_view_module": "catboost-widget",
       "_view_module_version": "^1.0.0",
       "_view_name": "CatboostWidgetView",
       "data": {
        "catboost_info": {
         "content": {
          "data": {
           "iterations": [
            {
             "iteration": 0,
             "learn": [
              16752.67449
             ],
             "parameters": [
              {
               "depth": 3,
               "iterations": 400,
               "learning_rate": 0.05
              }
             ],
             "passed_time": 3.012185977,
             "remaining_time": 27.10967379,
             "test": [
              25102.44711
             ]
            },
            {
             "iteration": 1,
             "learn": [
              17864.52468
             ],
             "parameters": [
              {
               "depth": 4,
               "iterations": 400,
               "learning_rate": 0.03
              }
             ],
             "passed_time": 7.432432963,
             "remaining_time": 29.72973185,
             "test": [
              26935.65061
             ]
            },
            {
             "iteration": 2,
             "learn": [
              15116.89987
             ],
             "parameters": [
              {
               "depth": 5,
               "iterations": 300,
               "learning_rate": 0.05
              }
             ],
             "passed_time": 12.09886411,
             "remaining_time": 28.23068293,
             "test": [
              27398.66846
             ]
            },
            {
             "iteration": 3,
             "learn": [
              129649.9667
             ],
             "parameters": [
              {
               "depth": 5,
               "iterations": 500,
               "learning_rate": 0.001
              }
             ],
             "passed_time": 19.03952953,
             "remaining_time": 28.55929429,
             "test": [
              131593.832
             ]
            },
            {
             "iteration": 4,
             "learn": [
              13317.49069
             ],
             "parameters": [
              {
               "depth": 6,
               "iterations": 300,
               "learning_rate": 0.05
              }
             ],
             "passed_time": 26.31947637,
             "remaining_time": 26.31947637,
             "test": [
              26464.5396
             ]
            },
            {
             "iteration": 5,
             "learn": [
              15243.43792
             ],
             "parameters": [
              {
               "depth": 6,
               "iterations": 400,
               "learning_rate": 0.03
              }
             ],
             "passed_time": 36.4638379,
             "remaining_time": 24.30922526,
             "test": [
              26078.2076
             ]
            },
            {
             "iteration": 6,
             "learn": [
              27872.00529
             ],
             "parameters": [
              {
               "depth": 7,
               "iterations": 400,
               "learning_rate": 0.01
              }
             ],
             "passed_time": 51.85976952,
             "remaining_time": 22.22561551,
             "test": [
              33024.6337
             ]
            },
            {
             "iteration": 7,
             "learn": [
              14562.90085
             ],
             "parameters": [
              {
               "depth": 8,
               "iterations": 200,
               "learning_rate": 0.05
              }
             ],
             "passed_time": 64.85428325,
             "remaining_time": 16.21357081,
             "test": [
              26666.49056
             ]
            },
            {
             "iteration": 8,
             "learn": [
              7012.85127
             ],
             "parameters": [
              {
               "depth": 8,
               "iterations": 500,
               "learning_rate": 0.05
              }
             ],
             "passed_time": 100.6934534,
             "remaining_time": 11.18816149,
             "test": [
              25521.38701
             ]
            },
            {
             "iteration": 9,
             "learn": [
              131086.5134
             ],
             "parameters": [
              {
               "depth": 10,
               "iterations": 500,
               "learning_rate": 0.001
              }
             ],
             "passed_time": 124.8824247,
             "remaining_time": 0,
             "test": [
              133171.7049
             ]
            }
           ],
           "meta": {
            "iteration_count": 10,
            "launch_mode": "Train",
            "learn_metrics": [
             {
              "best_value": "Min",
              "name": "RMSE"
             }
            ],
            "learn_sets": [
             "learn"
            ],
            "name": "experiment",
            "parameters": "parameters",
            "test_metrics": [
             {
              "best_value": "Min",
              "name": "RMSE"
             }
            ],
            "test_sets": [
             "test"
            ]
           }
          },
          "passed_iterations": 9,
          "total_iterations": 10
         },
         "name": "catboost_info",
         "path": "catboost_info"
        }
       },
       "layout": "IPY_MODEL_099b1e18893843a78da3abfaccacf7c6"
      }
     }
    },
    "version_major": 2,
    "version_minor": 0
   }
  }
 },
 "nbformat": 4,
 "nbformat_minor": 5
}
